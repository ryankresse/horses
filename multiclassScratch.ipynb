{
 "cells": [
  {
   "cell_type": "code",
   "execution_count": 1,
   "metadata": {
    "_cell_guid": "94bcf5b2-09f7-eada-edf4-48697992061f",
    "collapsed": false
   },
   "outputs": [],
   "source": [
    "import pandas as pd\n",
    "import xgboost as xgb\n",
    "import numpy as np\n",
    "%load_ext autoreload\n",
    "%autoreload 2\n",
    "#useful for displaying wide data frames\n",
    "pd.set_option('display.max_columns', 50)"
   ]
  },
  {
   "cell_type": "code",
   "execution_count": 2,
   "metadata": {
    "_cell_guid": "7bb48b2c-d20a-ae8e-ef75-6289e6d558dd",
    "collapsed": false
   },
   "outputs": [],
   "source": [
    "#load the data into Pandas dataframes\n",
    "df_market = pd.read_csv(\"input/markets.csv\")\n",
    "df_runners = pd.read_csv(\"input/runners.csv\",dtype={'barrier': np.int16,'handicap_weight': np.float16})\n",
    "\n",
    "#for my simple model, I'm ignoring other columns. I recommend starting with form if you're looking to add features\n",
    "#df_odds = pd.read_csv(\"../input/odds.csv\")\n",
    "#df_form = pd.read_csv(\"../input/forms.csv\")\n",
    "#df_condition = pd.read_csv(\"../input/conditions.csv\")\n",
    "#df_weather = (\"../input/weather.csv\")\n",
    "#df_rider = (\"../input/riders.csv\")\n",
    "#df_horse = (\"../input/horses.csv\")\n",
    "#df_horse_sex = (\"../input/horse_sexes.csv\")"
   ]
  },
  {
   "cell_type": "code",
   "execution_count": 3,
   "metadata": {
    "_cell_guid": "5cf5d552-dede-df4c-a0ec-dc012957eea4",
    "collapsed": true
   },
   "outputs": [],
   "source": [
    "##merge the runners and markets data frames\n",
    "df_runners_and_market = pd.merge(df_runners,df_market,left_on='market_id',right_on='id',how='outer')\n",
    "#df_runners_and_market.index = df_runners_and_market['id_x'] \n",
    "df_runners_and_market = df_runners_and_market.rename(columns={'id_x': 'runner_id'})"
   ]
  },
  {
   "cell_type": "code",
   "execution_count": 4,
   "metadata": {
    "collapsed": false
   },
   "outputs": [
    {
     "data": {
      "text/html": [
       "<div>\n",
       "<table border=\"1\" class=\"dataframe\">\n",
       "  <thead>\n",
       "    <tr style=\"text-align: right;\">\n",
       "      <th></th>\n",
       "      <th>runner_id</th>\n",
       "      <th>collected_at</th>\n",
       "      <th>market_id</th>\n",
       "      <th>position</th>\n",
       "      <th>place_paid</th>\n",
       "      <th>margin</th>\n",
       "      <th>horse_id</th>\n",
       "      <th>trainer_id</th>\n",
       "      <th>rider_id</th>\n",
       "      <th>handicap_weight</th>\n",
       "      <th>number</th>\n",
       "      <th>barrier</th>\n",
       "      <th>blinkers</th>\n",
       "      <th>emergency</th>\n",
       "      <th>form_rating_one</th>\n",
       "      <th>form_rating_two</th>\n",
       "      <th>form_rating_three</th>\n",
       "      <th>last_five_starts</th>\n",
       "      <th>favourite_odds_win</th>\n",
       "      <th>favourite_odds_place</th>\n",
       "      <th>favourite_pool_win</th>\n",
       "      <th>favourite_pool_place</th>\n",
       "      <th>tip_one_win</th>\n",
       "      <th>tip_one_place</th>\n",
       "      <th>tip_two_win</th>\n",
       "      <th>...</th>\n",
       "      <th>tip_four_win</th>\n",
       "      <th>tip_four_place</th>\n",
       "      <th>tip_five_win</th>\n",
       "      <th>tip_five_place</th>\n",
       "      <th>tip_six_win</th>\n",
       "      <th>tip_six_place</th>\n",
       "      <th>tip_seven_win</th>\n",
       "      <th>tip_seven_place</th>\n",
       "      <th>tip_eight_win</th>\n",
       "      <th>tip_eight_place</th>\n",
       "      <th>tip_nine_win</th>\n",
       "      <th>tip_nine_place</th>\n",
       "      <th>id_y</th>\n",
       "      <th>timezone</th>\n",
       "      <th>venue_id</th>\n",
       "      <th>race_number</th>\n",
       "      <th>distance</th>\n",
       "      <th>condition_id</th>\n",
       "      <th>weather_id</th>\n",
       "      <th>total_pool_one_win</th>\n",
       "      <th>total_pool_one_place</th>\n",
       "      <th>total_pool_two_win</th>\n",
       "      <th>total_pool_two_place</th>\n",
       "      <th>total_pool_three_win</th>\n",
       "      <th>total_pool_three_place</th>\n",
       "    </tr>\n",
       "  </thead>\n",
       "  <tbody>\n",
       "    <tr>\n",
       "      <th>0</th>\n",
       "      <td>4.0</td>\n",
       "      <td>2016-06-26 18:54:31.800293</td>\n",
       "      <td>1.0</td>\n",
       "      <td>NaN</td>\n",
       "      <td>1.0</td>\n",
       "      <td>NaN</td>\n",
       "      <td>4.0</td>\n",
       "      <td>4.0</td>\n",
       "      <td>4.0</td>\n",
       "      <td>58.5</td>\n",
       "      <td>4.0</td>\n",
       "      <td>10.0</td>\n",
       "      <td>f</td>\n",
       "      <td>f</td>\n",
       "      <td>82.0</td>\n",
       "      <td>82.0</td>\n",
       "      <td>14.0</td>\n",
       "      <td>x80x2</td>\n",
       "      <td>f</td>\n",
       "      <td>f</td>\n",
       "      <td>f</td>\n",
       "      <td>f</td>\n",
       "      <td>f</td>\n",
       "      <td>NaN</td>\n",
       "      <td>f</td>\n",
       "      <td>...</td>\n",
       "      <td>t</td>\n",
       "      <td>t</td>\n",
       "      <td>t</td>\n",
       "      <td>t</td>\n",
       "      <td>f</td>\n",
       "      <td>t</td>\n",
       "      <td>f</td>\n",
       "      <td>t</td>\n",
       "      <td>f</td>\n",
       "      <td>t</td>\n",
       "      <td>t</td>\n",
       "      <td>t</td>\n",
       "      <td>1.0</td>\n",
       "      <td>2016-06-26 19:00:00</td>\n",
       "      <td>1.0</td>\n",
       "      <td>3.0</td>\n",
       "      <td>1200.0</td>\n",
       "      <td>1.0</td>\n",
       "      <td>1.0</td>\n",
       "      <td>29718.08</td>\n",
       "      <td>NaN</td>\n",
       "      <td>11564.5</td>\n",
       "      <td>5373.0</td>\n",
       "      <td>23464.8</td>\n",
       "      <td>5373.0</td>\n",
       "    </tr>\n",
       "    <tr>\n",
       "      <th>1</th>\n",
       "      <td>10.0</td>\n",
       "      <td>2016-06-26 18:54:31.974395</td>\n",
       "      <td>1.0</td>\n",
       "      <td>NaN</td>\n",
       "      <td>0.0</td>\n",
       "      <td>NaN</td>\n",
       "      <td>10.0</td>\n",
       "      <td>4.0</td>\n",
       "      <td>10.0</td>\n",
       "      <td>56.5</td>\n",
       "      <td>10.0</td>\n",
       "      <td>11.0</td>\n",
       "      <td>f</td>\n",
       "      <td>f</td>\n",
       "      <td>100.0</td>\n",
       "      <td>100.0</td>\n",
       "      <td>18.0</td>\n",
       "      <td>22x35</td>\n",
       "      <td>f</td>\n",
       "      <td>f</td>\n",
       "      <td>f</td>\n",
       "      <td>f</td>\n",
       "      <td>f</td>\n",
       "      <td>NaN</td>\n",
       "      <td>f</td>\n",
       "      <td>...</td>\n",
       "      <td>f</td>\n",
       "      <td>f</td>\n",
       "      <td>f</td>\n",
       "      <td>f</td>\n",
       "      <td>f</td>\n",
       "      <td>f</td>\n",
       "      <td>f</td>\n",
       "      <td>f</td>\n",
       "      <td>f</td>\n",
       "      <td>f</td>\n",
       "      <td>f</td>\n",
       "      <td>f</td>\n",
       "      <td>1.0</td>\n",
       "      <td>2016-06-26 19:00:00</td>\n",
       "      <td>1.0</td>\n",
       "      <td>3.0</td>\n",
       "      <td>1200.0</td>\n",
       "      <td>1.0</td>\n",
       "      <td>1.0</td>\n",
       "      <td>29718.08</td>\n",
       "      <td>NaN</td>\n",
       "      <td>11564.5</td>\n",
       "      <td>5373.0</td>\n",
       "      <td>23464.8</td>\n",
       "      <td>5373.0</td>\n",
       "    </tr>\n",
       "    <tr>\n",
       "      <th>2</th>\n",
       "      <td>5.0</td>\n",
       "      <td>2016-06-26 18:54:31.835329</td>\n",
       "      <td>1.0</td>\n",
       "      <td>NaN</td>\n",
       "      <td>0.0</td>\n",
       "      <td>NaN</td>\n",
       "      <td>5.0</td>\n",
       "      <td>5.0</td>\n",
       "      <td>5.0</td>\n",
       "      <td>56.5</td>\n",
       "      <td>5.0</td>\n",
       "      <td>5.0</td>\n",
       "      <td>f</td>\n",
       "      <td>f</td>\n",
       "      <td>76.0</td>\n",
       "      <td>76.0</td>\n",
       "      <td>0.0</td>\n",
       "      <td>f7</td>\n",
       "      <td>f</td>\n",
       "      <td>f</td>\n",
       "      <td>f</td>\n",
       "      <td>f</td>\n",
       "      <td>f</td>\n",
       "      <td>NaN</td>\n",
       "      <td>f</td>\n",
       "      <td>...</td>\n",
       "      <td>f</td>\n",
       "      <td>f</td>\n",
       "      <td>f</td>\n",
       "      <td>t</td>\n",
       "      <td>f</td>\n",
       "      <td>f</td>\n",
       "      <td>f</td>\n",
       "      <td>f</td>\n",
       "      <td>f</td>\n",
       "      <td>f</td>\n",
       "      <td>f</td>\n",
       "      <td>f</td>\n",
       "      <td>1.0</td>\n",
       "      <td>2016-06-26 19:00:00</td>\n",
       "      <td>1.0</td>\n",
       "      <td>3.0</td>\n",
       "      <td>1200.0</td>\n",
       "      <td>1.0</td>\n",
       "      <td>1.0</td>\n",
       "      <td>29718.08</td>\n",
       "      <td>NaN</td>\n",
       "      <td>11564.5</td>\n",
       "      <td>5373.0</td>\n",
       "      <td>23464.8</td>\n",
       "      <td>5373.0</td>\n",
       "    </tr>\n",
       "    <tr>\n",
       "      <th>3</th>\n",
       "      <td>6.0</td>\n",
       "      <td>2016-06-26 18:54:31.873492</td>\n",
       "      <td>1.0</td>\n",
       "      <td>NaN</td>\n",
       "      <td>0.0</td>\n",
       "      <td>NaN</td>\n",
       "      <td>6.0</td>\n",
       "      <td>6.0</td>\n",
       "      <td>6.0</td>\n",
       "      <td>56.5</td>\n",
       "      <td>6.0</td>\n",
       "      <td>12.0</td>\n",
       "      <td>f</td>\n",
       "      <td>f</td>\n",
       "      <td>85.0</td>\n",
       "      <td>85.0</td>\n",
       "      <td>2.0</td>\n",
       "      <td>f6462</td>\n",
       "      <td>f</td>\n",
       "      <td>f</td>\n",
       "      <td>f</td>\n",
       "      <td>f</td>\n",
       "      <td>f</td>\n",
       "      <td>NaN</td>\n",
       "      <td>f</td>\n",
       "      <td>...</td>\n",
       "      <td>f</td>\n",
       "      <td>f</td>\n",
       "      <td>f</td>\n",
       "      <td>f</td>\n",
       "      <td>f</td>\n",
       "      <td>f</td>\n",
       "      <td>f</td>\n",
       "      <td>f</td>\n",
       "      <td>f</td>\n",
       "      <td>f</td>\n",
       "      <td>f</td>\n",
       "      <td>f</td>\n",
       "      <td>1.0</td>\n",
       "      <td>2016-06-26 19:00:00</td>\n",
       "      <td>1.0</td>\n",
       "      <td>3.0</td>\n",
       "      <td>1200.0</td>\n",
       "      <td>1.0</td>\n",
       "      <td>1.0</td>\n",
       "      <td>29718.08</td>\n",
       "      <td>NaN</td>\n",
       "      <td>11564.5</td>\n",
       "      <td>5373.0</td>\n",
       "      <td>23464.8</td>\n",
       "      <td>5373.0</td>\n",
       "    </tr>\n",
       "    <tr>\n",
       "      <th>4</th>\n",
       "      <td>1.0</td>\n",
       "      <td>2016-06-26 18:54:31.746854</td>\n",
       "      <td>1.0</td>\n",
       "      <td>NaN</td>\n",
       "      <td>0.0</td>\n",
       "      <td>NaN</td>\n",
       "      <td>1.0</td>\n",
       "      <td>1.0</td>\n",
       "      <td>1.0</td>\n",
       "      <td>58.5</td>\n",
       "      <td>1.0</td>\n",
       "      <td>8.0</td>\n",
       "      <td>f</td>\n",
       "      <td>f</td>\n",
       "      <td>89.0</td>\n",
       "      <td>89.0</td>\n",
       "      <td>0.0</td>\n",
       "      <td>34x0x</td>\n",
       "      <td>f</td>\n",
       "      <td>f</td>\n",
       "      <td>f</td>\n",
       "      <td>f</td>\n",
       "      <td>f</td>\n",
       "      <td>NaN</td>\n",
       "      <td>f</td>\n",
       "      <td>...</td>\n",
       "      <td>f</td>\n",
       "      <td>f</td>\n",
       "      <td>f</td>\n",
       "      <td>f</td>\n",
       "      <td>f</td>\n",
       "      <td>f</td>\n",
       "      <td>f</td>\n",
       "      <td>f</td>\n",
       "      <td>f</td>\n",
       "      <td>f</td>\n",
       "      <td>f</td>\n",
       "      <td>f</td>\n",
       "      <td>1.0</td>\n",
       "      <td>2016-06-26 19:00:00</td>\n",
       "      <td>1.0</td>\n",
       "      <td>3.0</td>\n",
       "      <td>1200.0</td>\n",
       "      <td>1.0</td>\n",
       "      <td>1.0</td>\n",
       "      <td>29718.08</td>\n",
       "      <td>NaN</td>\n",
       "      <td>11564.5</td>\n",
       "      <td>5373.0</td>\n",
       "      <td>23464.8</td>\n",
       "      <td>5373.0</td>\n",
       "    </tr>\n",
       "  </tbody>\n",
       "</table>\n",
       "<p>5 rows × 53 columns</p>\n",
       "</div>"
      ],
      "text/plain": [
       "   runner_id                collected_at  market_id  position  place_paid  \\\n",
       "0        4.0  2016-06-26 18:54:31.800293        1.0       NaN         1.0   \n",
       "1       10.0  2016-06-26 18:54:31.974395        1.0       NaN         0.0   \n",
       "2        5.0  2016-06-26 18:54:31.835329        1.0       NaN         0.0   \n",
       "3        6.0  2016-06-26 18:54:31.873492        1.0       NaN         0.0   \n",
       "4        1.0  2016-06-26 18:54:31.746854        1.0       NaN         0.0   \n",
       "\n",
       "   margin  horse_id  trainer_id  rider_id  handicap_weight  number  barrier  \\\n",
       "0     NaN       4.0         4.0       4.0             58.5     4.0     10.0   \n",
       "1     NaN      10.0         4.0      10.0             56.5    10.0     11.0   \n",
       "2     NaN       5.0         5.0       5.0             56.5     5.0      5.0   \n",
       "3     NaN       6.0         6.0       6.0             56.5     6.0     12.0   \n",
       "4     NaN       1.0         1.0       1.0             58.5     1.0      8.0   \n",
       "\n",
       "  blinkers emergency  form_rating_one  form_rating_two  form_rating_three  \\\n",
       "0        f         f             82.0             82.0               14.0   \n",
       "1        f         f            100.0            100.0               18.0   \n",
       "2        f         f             76.0             76.0                0.0   \n",
       "3        f         f             85.0             85.0                2.0   \n",
       "4        f         f             89.0             89.0                0.0   \n",
       "\n",
       "  last_five_starts favourite_odds_win favourite_odds_place favourite_pool_win  \\\n",
       "0            x80x2                  f                    f                  f   \n",
       "1            22x35                  f                    f                  f   \n",
       "2               f7                  f                    f                  f   \n",
       "3            f6462                  f                    f                  f   \n",
       "4            34x0x                  f                    f                  f   \n",
       "\n",
       "  favourite_pool_place tip_one_win  tip_one_place tip_two_win  \\\n",
       "0                    f           f            NaN           f   \n",
       "1                    f           f            NaN           f   \n",
       "2                    f           f            NaN           f   \n",
       "3                    f           f            NaN           f   \n",
       "4                    f           f            NaN           f   \n",
       "\n",
       "            ...           tip_four_win tip_four_place tip_five_win  \\\n",
       "0           ...                      t              t            t   \n",
       "1           ...                      f              f            f   \n",
       "2           ...                      f              f            f   \n",
       "3           ...                      f              f            f   \n",
       "4           ...                      f              f            f   \n",
       "\n",
       "  tip_five_place tip_six_win tip_six_place tip_seven_win tip_seven_place  \\\n",
       "0              t           f             t             f               t   \n",
       "1              f           f             f             f               f   \n",
       "2              t           f             f             f               f   \n",
       "3              f           f             f             f               f   \n",
       "4              f           f             f             f               f   \n",
       "\n",
       "  tip_eight_win tip_eight_place tip_nine_win tip_nine_place id_y  \\\n",
       "0             f               t            t              t  1.0   \n",
       "1             f               f            f              f  1.0   \n",
       "2             f               f            f              f  1.0   \n",
       "3             f               f            f              f  1.0   \n",
       "4             f               f            f              f  1.0   \n",
       "\n",
       "              timezone venue_id  race_number distance  condition_id  \\\n",
       "0  2016-06-26 19:00:00      1.0          3.0   1200.0           1.0   \n",
       "1  2016-06-26 19:00:00      1.0          3.0   1200.0           1.0   \n",
       "2  2016-06-26 19:00:00      1.0          3.0   1200.0           1.0   \n",
       "3  2016-06-26 19:00:00      1.0          3.0   1200.0           1.0   \n",
       "4  2016-06-26 19:00:00      1.0          3.0   1200.0           1.0   \n",
       "\n",
       "   weather_id  total_pool_one_win  total_pool_one_place  total_pool_two_win  \\\n",
       "0         1.0            29718.08                   NaN             11564.5   \n",
       "1         1.0            29718.08                   NaN             11564.5   \n",
       "2         1.0            29718.08                   NaN             11564.5   \n",
       "3         1.0            29718.08                   NaN             11564.5   \n",
       "4         1.0            29718.08                   NaN             11564.5   \n",
       "\n",
       "   total_pool_two_place  total_pool_three_win  total_pool_three_place  \n",
       "0                5373.0               23464.8                  5373.0  \n",
       "1                5373.0               23464.8                  5373.0  \n",
       "2                5373.0               23464.8                  5373.0  \n",
       "3                5373.0               23464.8                  5373.0  \n",
       "4                5373.0               23464.8                  5373.0  \n",
       "\n",
       "[5 rows x 53 columns]"
      ]
     },
     "execution_count": 4,
     "metadata": {},
     "output_type": "execute_result"
    }
   ],
   "source": [
    "df_runners_and_market.head()"
   ]
  },
  {
   "cell_type": "code",
   "execution_count": 7,
   "metadata": {
    "_cell_guid": "1a89f8e2-bb7a-8581-efca-9bdb907d5e91",
    "collapsed": false
   },
   "outputs": [
    {
     "name": "stderr",
     "output_type": "stream",
     "text": [
      "//anaconda/lib/python3.5/site-packages/ipykernel/__main__.py:18: SettingWithCopyWarning: \n",
      "A value is trying to be set on a copy of a slice from a DataFrame.\n",
      "Try using .loc[row_indexer,col_indexer] = value instead\n",
      "\n",
      "See the caveats in the documentation: http://pandas.pydata.org/pandas-docs/stable/indexing.html#indexing-view-versus-copy\n",
      "//anaconda/lib/python3.5/site-packages/pandas/core/indexing.py:461: SettingWithCopyWarning: \n",
      "A value is trying to be set on a copy of a slice from a DataFrame.\n",
      "Try using .loc[row_indexer,col_indexer] = value instead\n",
      "\n",
      "See the caveats in the documentation: http://pandas.pydata.org/pandas-docs/stable/indexing.html#indexing-view-versus-copy\n",
      "  self.obj[item] = s\n"
     ]
    }
   ],
   "source": [
    "numeric_features = ['position', 'horse_id', 'runner_id', 'market_id','barrier','handicap_weight']\n",
    "categorical_features = []\n",
    "\n",
    "#convert to factors\n",
    "'''for feature in categorical_features:\n",
    "    df_runners_and_market[feature] = df_runners_and_market[feature].astype(str)\n",
    "    df_runners_and_market[feature] = df_runners_and_market[feature].replace('nan','0') #have to do this because of a weird random forest bug\n",
    "\n",
    "    df_features = df_runners_and_market[numeric_features]\n",
    "\n",
    "for feature in categorical_features:\n",
    "    encoded_features = pd.get_dummies(df_runners_and_market[feature])\n",
    "    encoded_features.columns = feature + encoded_features.columns\n",
    "    df_features = pd.merge(df_features,encoded_features,left_index=True,right_index=True,how='inner') \n",
    "'''\n",
    "df_features = df_runners_and_market[numeric_features]\n",
    "#turn the target variable into a binary feature: did or did not win\n",
    "df_features['win'] = False\n",
    "df_features.loc[df_features['position'] == 1,'win'] = True\n",
    "#df_features = df_features.reset_index().rename(columns={'id_x': 'horse_id'})\n",
    "df_features = df_features.reindex(np.random.permutation(df_features.index))\n",
    "#del df_runners_and_market, encoded_features, df_features['position']"
   ]
  },
  {
   "cell_type": "code",
   "execution_count": 5,
   "metadata": {
    "collapsed": false
   },
   "outputs": [],
   "source": [
    "def shapeToRaces(race):\n",
    "    \n",
    "    won = race[race.win == True]\n",
    "    if won.empty:\n",
    "        # some races don't have a winner. we'll use the -8888 to remove them later\n",
    "        wonClass = -8888; \n",
    "    else:\n",
    "        won = won.index.values[0]\n",
    "        wonClass = race.index.get_loc(won) # get what class the winning horse will be    race =     \n",
    "    \n",
    "    market_id = race.iloc[0,:].market_id\n",
    "    runner_ids = race.runner_id.values    \n",
    "        \n",
    "    #drop unneccesary columns before we go to straight numpy arrays\n",
    "    race = race.drop(['horse_id', 'win','position', 'runner_id', 'market_id'], axis=1)\n",
    "        \n",
    "    #stack horse from the race into one flat row\n",
    "    st = race.stack().to_frame().T #stack it\n",
    "        \n",
    "    #now lose the multi-index and extract just values as just a numpy array\n",
    "    st.columns = ['{}_{}'.format(col[1], col[0]) for col in st.columns]\n",
    "    vals = st.values\n",
    "    \n",
    "    #add fake columns to create features for 25 horses\n",
    "    colsToAdd = (race.shape[1] * 25) - st.shape[1]\n",
    "    ones = (np.ones(colsToAdd) * -999)[:, np.newaxis].T\n",
    "    withAdded = np.concatenate((vals, ones ), axis=1)\n",
    "        \n",
    "    #append label and other meta_data to the row\n",
    "    withAdded = np.append(withAdded, wonClass)\n",
    "    \n",
    "    return (withAdded, runner_ids)"
   ]
  },
  {
   "cell_type": "code",
   "execution_count": 8,
   "metadata": {
    "collapsed": false
   },
   "outputs": [],
   "source": [
    "m = df_features.groupby('market_id').apply(shapeToRaces)"
   ]
  },
  {
   "cell_type": "code",
   "execution_count": 234,
   "metadata": {
    "collapsed": false
   },
   "outputs": [
    {
     "ename": "ImportError",
     "evalue": "cannot import name 'makeRaces'",
     "output_type": "error",
     "traceback": [
      "\u001b[0;31m---------------------------------------------------------------------------\u001b[0m",
      "\u001b[0;31mImportError\u001b[0m                               Traceback (most recent call last)",
      "\u001b[0;32m<ipython-input-234-1e8bf2162fdf>\u001b[0m in \u001b[0;36m<module>\u001b[0;34m()\u001b[0m\n\u001b[0;32m----> 1\u001b[0;31m \u001b[0;32mfrom\u001b[0m \u001b[0mshapeRaces\u001b[0m \u001b[0;32mimport\u001b[0m \u001b[0mmakeRaces\u001b[0m\u001b[0;34m\u001b[0m\u001b[0m\n\u001b[0m\u001b[1;32m      2\u001b[0m \u001b[0mvals\u001b[0m\u001b[0;34m,\u001b[0m \u001b[0mclassDf\u001b[0m\u001b[0;34m,\u001b[0m \u001b[0mmarket_ids\u001b[0m \u001b[0;34m=\u001b[0m \u001b[0mmakeRaces\u001b[0m\u001b[0;34m(\u001b[0m\u001b[0mdf_features\u001b[0m\u001b[0;34m)\u001b[0m\u001b[0;34m\u001b[0m\u001b[0m\n",
      "\u001b[0;31mImportError\u001b[0m: cannot import name 'makeRaces'"
     ]
    }
   ],
   "source": [
    "from shapeRaces import makeRaces\n",
    "vals, classDf, market_ids = makeRaces(df_features)"
   ]
  },
  {
   "cell_type": "code",
   "execution_count": 177,
   "metadata": {
    "collapsed": false
   },
   "outputs": [],
   "source": [
    "runner_ids = m.apply(lambda x: x[1])\n",
    "\n",
    "d = pd.DataFrame(runner_ids.reset_index().rename(columns={0: 'runners'}))\n",
    "\n",
    "def getMarketList(race):\n",
    "    ids = np.ones(race.runners.shape[0]) * race.market_id\n",
    "    classes = np.arange(race.runners.shape[0])\n",
    "    return list(zip(race.runners, classes, ids))\n",
    "d['market_list'] = d.apply(getMarketList,axis=1)\n",
    "\n",
    "runnersClasses = np.vstack(d.market_list.values)\n",
    "classDf = pd.DataFrame({'runner_id':runnersClasses[:,0], 'class':runnersClasses[:,1],'market_id':runnersClasses[:,2]})\n",
    "\n",
    "vals = m.apply(lambda x: x[0]).values\n",
    "vals = np.vstack(vals)\n",
    "valsMask = vals[:, -1] > -8888\n",
    "vals = vals[valsMask]\n",
    "market_ids = m.index.values\n",
    "market_ids = market_ids[valsMask]\n",
    "print(vals.shape)\n",
    "print(market_ids.shape)"
   ]
  },
  {
   "cell_type": "code",
   "execution_count": 185,
   "metadata": {
    "collapsed": false
   },
   "outputs": [
    {
     "data": {
      "text/plain": [
       "LogisticRegression(C=1.0, class_weight=None, dual=False, fit_intercept=True,\n",
       "          intercept_scaling=1, max_iter=100, multi_class='ovr', n_jobs=1,\n",
       "          penalty='l2', random_state=None, solver='liblinear', tol=0.0001,\n",
       "          verbose=0, warm_start=False)"
      ]
     },
     "execution_count": 185,
     "metadata": {},
     "output_type": "execute_result"
    }
   ],
   "source": [
    "from sklearn.linear_model import LogisticRegression\n",
    "lr = LogisticRegression()\n",
    "lr.fit(vals[:, :-1], vals[:, -1])"
   ]
  },
  {
   "cell_type": "code",
   "execution_count": 205,
   "metadata": {
    "collapsed": false
   },
   "outputs": [],
   "source": [
    "probs = lr.predict_proba(vals[:, :-1])\n",
    "colsToAdd = list(np.arange(probs.shape[1]))\n",
    "probs = np.hstack((probs, market_ids[:, np.newaxis]))\n",
    "colsToAdd.append('market_id')"
   ]
  },
  {
   "cell_type": "code",
   "execution_count": 209,
   "metadata": {
    "collapsed": false
   },
   "outputs": [],
   "source": [
    "probs_df = pd.DataFrame(probs, columns=colsToAdd)\n",
    "probs_re = probs_df.set_index('market_id').stack().reset_index().rename(columns={0:'prob', 'level_1':'class'})\n",
    "\n",
    "classAndProb = probs_re.merge(classDf, on=['market_id', 'class'])    \n",
    "\n",
    "classAndProb.head()"
   ]
  },
  {
   "cell_type": "code",
   "execution_count": 220,
   "metadata": {
    "collapsed": false
   },
   "outputs": [],
   "source": [
    "from runRacesMultiClass import addOdds\n",
    "c = addOdds(classAndProb, all_odds)"
   ]
  },
  {
   "cell_type": "code",
   "execution_count": 224,
   "metadata": {
    "collapsed": false
   },
   "outputs": [
    {
     "data": {
      "text/html": [
       "<div>\n",
       "<table border=\"1\" class=\"dataframe\">\n",
       "  <thead>\n",
       "    <tr style=\"text-align: right;\">\n",
       "      <th></th>\n",
       "      <th>market_id</th>\n",
       "      <th>runners</th>\n",
       "      <th>market_list</th>\n",
       "    </tr>\n",
       "  </thead>\n",
       "  <tbody>\n",
       "    <tr>\n",
       "      <th>0</th>\n",
       "      <td>1.0</td>\n",
       "      <td>[12.0, 10.0, 9.0, 3.0, 4.0, 13.0, 11.0, 6.0, 5...</td>\n",
       "      <td>[(12.0, 0, 1.0), (10.0, 1, 1.0), (9.0, 2, 1.0)...</td>\n",
       "    </tr>\n",
       "    <tr>\n",
       "      <th>1</th>\n",
       "      <td>2.0</td>\n",
       "      <td>[19.0, 16.0, 15.0, 18.0, 24.0, 21.0, 22.0, 20....</td>\n",
       "      <td>[(19.0, 0, 2.0), (16.0, 1, 2.0), (15.0, 2, 2.0...</td>\n",
       "    </tr>\n",
       "    <tr>\n",
       "      <th>2</th>\n",
       "      <td>3.0</td>\n",
       "      <td>[38.0, 36.0, 41.0, 34.0, 39.0, 42.0, 31.0, 32....</td>\n",
       "      <td>[(38.0, 0, 3.0), (36.0, 1, 3.0), (41.0, 2, 3.0...</td>\n",
       "    </tr>\n",
       "    <tr>\n",
       "      <th>3</th>\n",
       "      <td>4.0</td>\n",
       "      <td>[47.0, 48.0, 51.0, 45.0, 53.0, 44.0, 56.0, 52....</td>\n",
       "      <td>[(47.0, 0, 4.0), (48.0, 1, 4.0), (51.0, 2, 4.0...</td>\n",
       "    </tr>\n",
       "    <tr>\n",
       "      <th>4</th>\n",
       "      <td>5.0</td>\n",
       "      <td>[62.0, 65.0, 61.0, 67.0, 59.0, 58.0, 70.0, 60....</td>\n",
       "      <td>[(62.0, 0, 5.0), (65.0, 1, 5.0), (61.0, 2, 5.0...</td>\n",
       "    </tr>\n",
       "  </tbody>\n",
       "</table>\n",
       "</div>"
      ],
      "text/plain": [
       "   market_id                                            runners  \\\n",
       "0        1.0  [12.0, 10.0, 9.0, 3.0, 4.0, 13.0, 11.0, 6.0, 5...   \n",
       "1        2.0  [19.0, 16.0, 15.0, 18.0, 24.0, 21.0, 22.0, 20....   \n",
       "2        3.0  [38.0, 36.0, 41.0, 34.0, 39.0, 42.0, 31.0, 32....   \n",
       "3        4.0  [47.0, 48.0, 51.0, 45.0, 53.0, 44.0, 56.0, 52....   \n",
       "4        5.0  [62.0, 65.0, 61.0, 67.0, 59.0, 58.0, 70.0, 60....   \n",
       "\n",
       "                                         market_list  \n",
       "0  [(12.0, 0, 1.0), (10.0, 1, 1.0), (9.0, 2, 1.0)...  \n",
       "1  [(19.0, 0, 2.0), (16.0, 1, 2.0), (15.0, 2, 2.0...  \n",
       "2  [(38.0, 0, 3.0), (36.0, 1, 3.0), (41.0, 2, 3.0...  \n",
       "3  [(47.0, 0, 4.0), (48.0, 1, 4.0), (51.0, 2, 4.0...  \n",
       "4  [(62.0, 0, 5.0), (65.0, 1, 5.0), (61.0, 2, 5.0...  "
      ]
     },
     "execution_count": 224,
     "metadata": {},
     "output_type": "execute_result"
    }
   ],
   "source": [
    "d.head()"
   ]
  },
  {
   "cell_type": "code",
   "execution_count": 225,
   "metadata": {
    "collapsed": false
   },
   "outputs": [],
   "source": [
    "e = c.merge(df_features[['runner_id', 'win']], on='runner_id')"
   ]
  },
  {
   "cell_type": "code",
   "execution_count": 232,
   "metadata": {
    "collapsed": false
   },
   "outputs": [
    {
     "name": "stdout",
     "output_type": "stream",
     "text": [
      "Total bets: 32101\n",
      "Total wins: 1400\n"
     ]
    },
    {
     "data": {
      "text/plain": [
       "-12.69"
      ]
     },
     "execution_count": 232,
     "metadata": {},
     "output_type": "execute_result"
    }
   ],
   "source": [
    "from runRacesMultiClass import placeBets\n",
    "placeBets(e)"
   ]
  },
  {
   "cell_type": "code",
   "execution_count": 238,
   "metadata": {
    "collapsed": false
   },
   "outputs": [],
   "source": [
    "from shapeRaces import makeRaces\n",
    "raceData, runnerClassDf, market_ids = makeRaces(df_features)"
   ]
  },
  {
   "cell_type": "code",
   "execution_count": 252,
   "metadata": {
    "collapsed": false
   },
   "outputs": [],
   "source": [
    "from sklearn.cross_validation import train_test_split\n",
    "train, test, train_market_ids, test_market_ids = train_test_split(raceData, market_ids)"
   ]
  },
  {
   "cell_type": "code",
   "execution_count": 257,
   "metadata": {
    "collapsed": false
   },
   "outputs": [
    {
     "data": {
      "text/plain": [
       "(1592, 51)"
      ]
     },
     "execution_count": 257,
     "metadata": {},
     "output_type": "execute_result"
    }
   ],
   "source": [
    "test.shape"
   ]
  },
  {
   "cell_type": "code",
   "execution_count": 253,
   "metadata": {
    "collapsed": false
   },
   "outputs": [
    {
     "data": {
      "text/plain": [
       "(4773, 51)"
      ]
     },
     "execution_count": 253,
     "metadata": {},
     "output_type": "execute_result"
    }
   ],
   "source": [
    "train.shape"
   ]
  },
  {
   "cell_type": "code",
   "execution_count": 254,
   "metadata": {
    "collapsed": false
   },
   "outputs": [
    {
     "data": {
      "text/plain": [
       "(4773,)"
      ]
     },
     "execution_count": 254,
     "metadata": {},
     "output_type": "execute_result"
    }
   ],
   "source": [
    "train_market_ids.shape"
   ]
  },
  {
   "cell_type": "code",
   "execution_count": 256,
   "metadata": {
    "collapsed": false
   },
   "outputs": [
    {
     "data": {
      "text/plain": [
       "(1592,)"
      ]
     },
     "execution_count": 256,
     "metadata": {},
     "output_type": "execute_result"
    }
   ],
   "source": [
    "test_market_ids.shape"
   ]
  },
  {
   "cell_type": "code",
   "execution_count": 81,
   "metadata": {
    "collapsed": false
   },
   "outputs": [],
   "source": [
    "pd.DataFrame(raceData).to_csv('raceDataBasic.csv', header=True, index=False)\n",
    "runnerClassDf.to_csv('runnerClassBasic.csv', header=True, index=False)\n"
   ]
  },
  {
   "cell_type": "code",
   "execution_count": 45,
   "metadata": {
    "collapsed": false
   },
   "outputs": [
    {
     "data": {
      "text/html": [
       "<div>\n",
       "<table border=\"1\" class=\"dataframe\">\n",
       "  <thead>\n",
       "    <tr style=\"text-align: right;\">\n",
       "      <th></th>\n",
       "      <th>class</th>\n",
       "      <th>horse_id</th>\n",
       "      <th>market_id</th>\n",
       "      <th>runner_id</th>\n",
       "    </tr>\n",
       "  </thead>\n",
       "  <tbody>\n",
       "    <tr>\n",
       "      <th>197</th>\n",
       "      <td>0.0</td>\n",
       "      <td>436.0</td>\n",
       "      <td>16.0</td>\n",
       "      <td>446.0</td>\n",
       "    </tr>\n",
       "    <tr>\n",
       "      <th>198</th>\n",
       "      <td>1.0</td>\n",
       "      <td>262.0</td>\n",
       "      <td>16.0</td>\n",
       "      <td>445.0</td>\n",
       "    </tr>\n",
       "    <tr>\n",
       "      <th>196</th>\n",
       "      <td>2.0</td>\n",
       "      <td>432.0</td>\n",
       "      <td>16.0</td>\n",
       "      <td>441.0</td>\n",
       "    </tr>\n",
       "    <tr>\n",
       "      <th>195</th>\n",
       "      <td>3.0</td>\n",
       "      <td>435.0</td>\n",
       "      <td>16.0</td>\n",
       "      <td>444.0</td>\n",
       "    </tr>\n",
       "    <tr>\n",
       "      <th>199</th>\n",
       "      <td>4.0</td>\n",
       "      <td>433.0</td>\n",
       "      <td>16.0</td>\n",
       "      <td>442.0</td>\n",
       "    </tr>\n",
       "  </tbody>\n",
       "</table>\n",
       "</div>"
      ],
      "text/plain": [
       "     class  horse_id  market_id  runner_id\n",
       "197    0.0     436.0       16.0      446.0\n",
       "198    1.0     262.0       16.0      445.0\n",
       "196    2.0     432.0       16.0      441.0\n",
       "195    3.0     435.0       16.0      444.0\n",
       "199    4.0     433.0       16.0      442.0"
      ]
     },
     "execution_count": 45,
     "metadata": {},
     "output_type": "execute_result"
    }
   ],
   "source": [
    "runnerClassDf.head()"
   ]
  },
  {
   "cell_type": "code",
   "execution_count": null,
   "metadata": {
    "collapsed": true
   },
   "outputs": [],
   "source": [
    "ru"
   ]
  },
  {
   "cell_type": "code",
   "execution_count": 71,
   "metadata": {
    "collapsed": false
   },
   "outputs": [
    {
     "name": "stdout",
     "output_type": "stream",
     "text": [
      "(4456, 53)\n"
     ]
    },
    {
     "data": {
      "text/plain": [
       "(1909, 53)"
      ]
     },
     "execution_count": 71,
     "metadata": {},
     "output_type": "execute_result"
    }
   ],
   "source": [
    "from runRacesMultiClass import trainTestSplit\n",
    "train, test = trainTestSplit(raceData)\n",
    "print(train.shape)\n",
    "test.shape"
   ]
  },
  {
   "cell_type": "code",
   "execution_count": 219,
   "metadata": {
    "collapsed": true
   },
   "outputs": [],
   "source": [
    "all_odds = pd.read_csv(\"input/odds.csv\")"
   ]
  },
  {
   "cell_type": "code",
   "execution_count": 261,
   "metadata": {
    "collapsed": false
   },
   "outputs": [
    {
     "name": "stdout",
     "output_type": "stream",
     "text": [
      "reshaping data\n",
      "trial 0\n",
      "fitting estimator\n",
      "making predictions\n",
      "Total bets: 8024\n",
      "Total wins: 304\n",
      "trial 1\n",
      "fitting estimator\n",
      "making predictions\n",
      "Total bets: 7874\n",
      "Total wins: 317\n",
      "trial 2\n",
      "fitting estimator\n",
      "making predictions\n",
      "Total bets: 8101\n",
      "Total wins: 330\n",
      "mean payout: -17.816666666666666, std payout: 3.0791160347663986\n"
     ]
    }
   ],
   "source": [
    "from runMultiFaster import runRaces\n",
    "from sklearn.linear_model import LogisticRegression\n",
    "\n",
    "lr = LogisticRegression()\n",
    "runRaces(data=df_features, est=lr, allOdds= all_odds, n_trials=3)\n"
   ]
  },
  {
   "cell_type": "code",
   "execution_count": 218,
   "metadata": {
    "collapsed": false
   },
   "outputs": [
    {
     "data": {
      "text/html": [
       "<div>\n",
       "<table border=\"1\" class=\"dataframe\">\n",
       "  <thead>\n",
       "    <tr style=\"text-align: right;\">\n",
       "      <th></th>\n",
       "      <th>market_id</th>\n",
       "      <th>class</th>\n",
       "      <th>prob</th>\n",
       "      <th>runner_id</th>\n",
       "    </tr>\n",
       "  </thead>\n",
       "  <tbody>\n",
       "    <tr>\n",
       "      <th>0</th>\n",
       "      <td>16.0</td>\n",
       "      <td>0</td>\n",
       "      <td>0.235044</td>\n",
       "      <td>442.0</td>\n",
       "    </tr>\n",
       "    <tr>\n",
       "      <th>1</th>\n",
       "      <td>16.0</td>\n",
       "      <td>1</td>\n",
       "      <td>0.146341</td>\n",
       "      <td>445.0</td>\n",
       "    </tr>\n",
       "    <tr>\n",
       "      <th>2</th>\n",
       "      <td>16.0</td>\n",
       "      <td>2</td>\n",
       "      <td>0.107188</td>\n",
       "      <td>444.0</td>\n",
       "    </tr>\n",
       "    <tr>\n",
       "      <th>3</th>\n",
       "      <td>16.0</td>\n",
       "      <td>3</td>\n",
       "      <td>0.156596</td>\n",
       "      <td>446.0</td>\n",
       "    </tr>\n",
       "    <tr>\n",
       "      <th>4</th>\n",
       "      <td>16.0</td>\n",
       "      <td>4</td>\n",
       "      <td>0.222932</td>\n",
       "      <td>441.0</td>\n",
       "    </tr>\n",
       "  </tbody>\n",
       "</table>\n",
       "</div>"
      ],
      "text/plain": [
       "   market_id  class      prob  runner_id\n",
       "0       16.0      0  0.235044      442.0\n",
       "1       16.0      1  0.146341      445.0\n",
       "2       16.0      2  0.107188      444.0\n",
       "3       16.0      3  0.156596      446.0\n",
       "4       16.0      4  0.222932      441.0"
      ]
     },
     "execution_count": 218,
     "metadata": {},
     "output_type": "execute_result"
    }
   ],
   "source": [
    "classAndProb.head()"
   ]
  },
  {
   "cell_type": "code",
   "execution_count": 85,
   "metadata": {
    "collapsed": false
   },
   "outputs": [],
   "source": [
    "from runRacesMultiClass import addOdds\n",
    "classAndProb = addOdds(classAndProb, all_odds)"
   ]
  },
  {
   "cell_type": "code",
   "execution_count": 86,
   "metadata": {
    "collapsed": false
   },
   "outputs": [
    {
     "data": {
      "text/html": [
       "<div>\n",
       "<table border=\"1\" class=\"dataframe\">\n",
       "  <thead>\n",
       "    <tr style=\"text-align: right;\">\n",
       "      <th></th>\n",
       "      <th>market_id</th>\n",
       "      <th>class</th>\n",
       "      <th>prob</th>\n",
       "      <th>horse_id</th>\n",
       "      <th>runner_id</th>\n",
       "      <th>odds</th>\n",
       "    </tr>\n",
       "  </thead>\n",
       "  <tbody>\n",
       "    <tr>\n",
       "      <th>0</th>\n",
       "      <td>23.0</td>\n",
       "      <td>0.0</td>\n",
       "      <td>0.055860</td>\n",
       "      <td>266.0</td>\n",
       "      <td>268.0</td>\n",
       "      <td>11.88</td>\n",
       "    </tr>\n",
       "    <tr>\n",
       "      <th>1</th>\n",
       "      <td>23.0</td>\n",
       "      <td>1.0</td>\n",
       "      <td>0.141468</td>\n",
       "      <td>263.0</td>\n",
       "      <td>264.0</td>\n",
       "      <td>23.30</td>\n",
       "    </tr>\n",
       "    <tr>\n",
       "      <th>2</th>\n",
       "      <td>23.0</td>\n",
       "      <td>2.0</td>\n",
       "      <td>0.129215</td>\n",
       "      <td>267.0</td>\n",
       "      <td>269.0</td>\n",
       "      <td>35.80</td>\n",
       "    </tr>\n",
       "    <tr>\n",
       "      <th>3</th>\n",
       "      <td>23.0</td>\n",
       "      <td>3.0</td>\n",
       "      <td>0.062784</td>\n",
       "      <td>265.0</td>\n",
       "      <td>266.0</td>\n",
       "      <td>11.90</td>\n",
       "    </tr>\n",
       "    <tr>\n",
       "      <th>4</th>\n",
       "      <td>23.0</td>\n",
       "      <td>5.0</td>\n",
       "      <td>0.044976</td>\n",
       "      <td>270.0</td>\n",
       "      <td>273.0</td>\n",
       "      <td>10.31</td>\n",
       "    </tr>\n",
       "  </tbody>\n",
       "</table>\n",
       "</div>"
      ],
      "text/plain": [
       "   market_id  class      prob  horse_id  runner_id   odds\n",
       "0       23.0    0.0  0.055860     266.0      268.0  11.88\n",
       "1       23.0    1.0  0.141468     263.0      264.0  23.30\n",
       "2       23.0    2.0  0.129215     267.0      269.0  35.80\n",
       "3       23.0    3.0  0.062784     265.0      266.0  11.90\n",
       "4       23.0    5.0  0.044976     270.0      273.0  10.31"
      ]
     },
     "execution_count": 86,
     "metadata": {},
     "output_type": "execute_result"
    }
   ],
   "source": [
    "classAndProb.head()"
   ]
  },
  {
   "cell_type": "code",
   "execution_count": 88,
   "metadata": {
    "collapsed": false
   },
   "outputs": [
    {
     "name": "stdout",
     "output_type": "stream",
     "text": [
      "Total bets: 9642\n",
      "Total wins: 367\n"
     ]
    },
    {
     "data": {
      "text/plain": [
       "-20.38"
      ]
     },
     "execution_count": 88,
     "metadata": {},
     "output_type": "execute_result"
    }
   ],
   "source": [
    "from runRacesMultiClass import placeBets\n",
    "classAndProb = classAndProb.merge(df_features[['runner_id', 'win']], on='runner_id')\n",
    "placeBets(classAndProb)"
   ]
  },
  {
   "cell_type": "code",
   "execution_count": null,
   "metadata": {
    "collapsed": true
   },
   "outputs": [],
   "source": []
  },
  {
   "cell_type": "code",
   "execution_count": 235,
   "metadata": {
    "collapsed": true
   },
   "outputs": [],
   "source": [
    "%reload_ext autoreload"
   ]
  },
  {
   "cell_type": "code",
   "execution_count": 78,
   "metadata": {
    "collapsed": true
   },
   "outputs": [],
   "source": [
    "probs = lr.predict_proba(X)\n",
    "\n",
    "market_ids = X_test[:,-1].T\n",
    "\n",
    "probs_df = pd.DataFrame()\n",
    "probs_re = probs_df.set_index('market_id').stack().reset_index().rename(columns={0:'prob', 'level_1':'class'})\n",
    "\n",
    "probs_re['class'] = probs_re['class'].astype(float)\n",
    "\n",
    "classAndProb = probs_re.merge(runnerClassDf, on=['market_id', 'class'])"
   ]
  },
  {
   "cell_type": "code",
   "execution_count": 187,
   "metadata": {
    "collapsed": false
   },
   "outputs": [],
   "source": [
    "classAndProb = classAndProb.merge(df_features[['runner_id', 'win']], on='runner_id')"
   ]
  }
 ],
 "metadata": {
  "_change_revision": 3,
  "_is_fork": false,
  "kernelspec": {
   "display_name": "Python 3",
   "language": "python",
   "name": "python3"
  },
  "language_info": {
   "codemirror_mode": {
    "name": "ipython",
    "version": 3
   },
   "file_extension": ".py",
   "mimetype": "text/x-python",
   "name": "python",
   "nbconvert_exporter": "python",
   "pygments_lexer": "ipython3",
   "version": "3.5.1"
  }
 },
 "nbformat": 4,
 "nbformat_minor": 0
}
