{
 "cells": [
  {
   "cell_type": "code",
   "execution_count": 1,
   "metadata": {
    "_cell_guid": "94bcf5b2-09f7-eada-edf4-48697992061f",
    "collapsed": false
   },
   "outputs": [],
   "source": [
    "import pandas as pd\n",
    "import xgboost as xgb\n",
    "import numpy as np\n",
    "%load_ext autoreload\n",
    "%autoreload 2\n",
    "#useful for displaying wide data frames\n",
    "pd.set_option('display.max_columns', 50)"
   ]
  },
  {
   "cell_type": "code",
   "execution_count": 2,
   "metadata": {
    "_cell_guid": "7bb48b2c-d20a-ae8e-ef75-6289e6d558dd",
    "collapsed": false
   },
   "outputs": [],
   "source": [
    "#load the data into Pandas dataframes\n",
    "df_market = pd.read_csv(\"input/markets.csv\")\n",
    "df_runners = pd.read_csv(\"input/runners.csv\",dtype={'barrier': np.int16,'handicap_weight': np.float16})\n",
    "\n",
    "#for my simple model, I'm ignoring other columns. I recommend starting with form if you're looking to add features\n",
    "#df_odds = pd.read_csv(\"../input/odds.csv\")\n",
    "#df_form = pd.read_csv(\"../input/forms.csv\")\n",
    "#df_condition = pd.read_csv(\"../input/conditions.csv\")\n",
    "#df_weather = (\"../input/weather.csv\")\n",
    "#df_rider = (\"../input/riders.csv\")\n",
    "#df_horse = (\"../input/horses.csv\")\n",
    "#df_horse_sex = (\"../input/horse_sexes.csv\")"
   ]
  },
  {
   "cell_type": "code",
   "execution_count": 3,
   "metadata": {
    "_cell_guid": "5cf5d552-dede-df4c-a0ec-dc012957eea4",
    "collapsed": true
   },
   "outputs": [],
   "source": [
    "##merge the runners and markets data frames\n",
    "df_runners_and_market = pd.merge(df_runners,df_market,left_on='market_id',right_on='id',how='outer')\n",
    "#df_runners_and_market.index = df_runners_and_market['id_x'] \n",
    "df_runners_and_market = df_runners_and_market.rename(columns={'id_x': 'runner_id'})"
   ]
  },
  {
   "cell_type": "code",
   "execution_count": 4,
   "metadata": {
    "collapsed": false
   },
   "outputs": [
    {
     "data": {
      "text/html": [
       "<div>\n",
       "<table border=\"1\" class=\"dataframe\">\n",
       "  <thead>\n",
       "    <tr style=\"text-align: right;\">\n",
       "      <th></th>\n",
       "      <th>runner_id</th>\n",
       "      <th>collected_at</th>\n",
       "      <th>market_id</th>\n",
       "      <th>position</th>\n",
       "      <th>place_paid</th>\n",
       "      <th>margin</th>\n",
       "      <th>horse_id</th>\n",
       "      <th>trainer_id</th>\n",
       "      <th>rider_id</th>\n",
       "      <th>handicap_weight</th>\n",
       "      <th>number</th>\n",
       "      <th>barrier</th>\n",
       "      <th>blinkers</th>\n",
       "      <th>emergency</th>\n",
       "      <th>form_rating_one</th>\n",
       "      <th>form_rating_two</th>\n",
       "      <th>form_rating_three</th>\n",
       "      <th>last_five_starts</th>\n",
       "      <th>favourite_odds_win</th>\n",
       "      <th>favourite_odds_place</th>\n",
       "      <th>favourite_pool_win</th>\n",
       "      <th>favourite_pool_place</th>\n",
       "      <th>tip_one_win</th>\n",
       "      <th>tip_one_place</th>\n",
       "      <th>tip_two_win</th>\n",
       "      <th>...</th>\n",
       "      <th>tip_four_win</th>\n",
       "      <th>tip_four_place</th>\n",
       "      <th>tip_five_win</th>\n",
       "      <th>tip_five_place</th>\n",
       "      <th>tip_six_win</th>\n",
       "      <th>tip_six_place</th>\n",
       "      <th>tip_seven_win</th>\n",
       "      <th>tip_seven_place</th>\n",
       "      <th>tip_eight_win</th>\n",
       "      <th>tip_eight_place</th>\n",
       "      <th>tip_nine_win</th>\n",
       "      <th>tip_nine_place</th>\n",
       "      <th>id_y</th>\n",
       "      <th>timezone</th>\n",
       "      <th>venue_id</th>\n",
       "      <th>race_number</th>\n",
       "      <th>distance</th>\n",
       "      <th>condition_id</th>\n",
       "      <th>weather_id</th>\n",
       "      <th>total_pool_one_win</th>\n",
       "      <th>total_pool_one_place</th>\n",
       "      <th>total_pool_two_win</th>\n",
       "      <th>total_pool_two_place</th>\n",
       "      <th>total_pool_three_win</th>\n",
       "      <th>total_pool_three_place</th>\n",
       "    </tr>\n",
       "  </thead>\n",
       "  <tbody>\n",
       "    <tr>\n",
       "      <th>0</th>\n",
       "      <td>4.0</td>\n",
       "      <td>2016-06-26 18:54:31.800293</td>\n",
       "      <td>1.0</td>\n",
       "      <td>NaN</td>\n",
       "      <td>1.0</td>\n",
       "      <td>NaN</td>\n",
       "      <td>4.0</td>\n",
       "      <td>4.0</td>\n",
       "      <td>4.0</td>\n",
       "      <td>58.5</td>\n",
       "      <td>4.0</td>\n",
       "      <td>10.0</td>\n",
       "      <td>f</td>\n",
       "      <td>f</td>\n",
       "      <td>82.0</td>\n",
       "      <td>82.0</td>\n",
       "      <td>14.0</td>\n",
       "      <td>x80x2</td>\n",
       "      <td>f</td>\n",
       "      <td>f</td>\n",
       "      <td>f</td>\n",
       "      <td>f</td>\n",
       "      <td>f</td>\n",
       "      <td>NaN</td>\n",
       "      <td>f</td>\n",
       "      <td>...</td>\n",
       "      <td>t</td>\n",
       "      <td>t</td>\n",
       "      <td>t</td>\n",
       "      <td>t</td>\n",
       "      <td>f</td>\n",
       "      <td>t</td>\n",
       "      <td>f</td>\n",
       "      <td>t</td>\n",
       "      <td>f</td>\n",
       "      <td>t</td>\n",
       "      <td>t</td>\n",
       "      <td>t</td>\n",
       "      <td>1.0</td>\n",
       "      <td>2016-06-26 19:00:00</td>\n",
       "      <td>1.0</td>\n",
       "      <td>3.0</td>\n",
       "      <td>1200.0</td>\n",
       "      <td>1.0</td>\n",
       "      <td>1.0</td>\n",
       "      <td>29718.08</td>\n",
       "      <td>NaN</td>\n",
       "      <td>11564.5</td>\n",
       "      <td>5373.0</td>\n",
       "      <td>23464.8</td>\n",
       "      <td>5373.0</td>\n",
       "    </tr>\n",
       "    <tr>\n",
       "      <th>1</th>\n",
       "      <td>10.0</td>\n",
       "      <td>2016-06-26 18:54:31.974395</td>\n",
       "      <td>1.0</td>\n",
       "      <td>NaN</td>\n",
       "      <td>0.0</td>\n",
       "      <td>NaN</td>\n",
       "      <td>10.0</td>\n",
       "      <td>4.0</td>\n",
       "      <td>10.0</td>\n",
       "      <td>56.5</td>\n",
       "      <td>10.0</td>\n",
       "      <td>11.0</td>\n",
       "      <td>f</td>\n",
       "      <td>f</td>\n",
       "      <td>100.0</td>\n",
       "      <td>100.0</td>\n",
       "      <td>18.0</td>\n",
       "      <td>22x35</td>\n",
       "      <td>f</td>\n",
       "      <td>f</td>\n",
       "      <td>f</td>\n",
       "      <td>f</td>\n",
       "      <td>f</td>\n",
       "      <td>NaN</td>\n",
       "      <td>f</td>\n",
       "      <td>...</td>\n",
       "      <td>f</td>\n",
       "      <td>f</td>\n",
       "      <td>f</td>\n",
       "      <td>f</td>\n",
       "      <td>f</td>\n",
       "      <td>f</td>\n",
       "      <td>f</td>\n",
       "      <td>f</td>\n",
       "      <td>f</td>\n",
       "      <td>f</td>\n",
       "      <td>f</td>\n",
       "      <td>f</td>\n",
       "      <td>1.0</td>\n",
       "      <td>2016-06-26 19:00:00</td>\n",
       "      <td>1.0</td>\n",
       "      <td>3.0</td>\n",
       "      <td>1200.0</td>\n",
       "      <td>1.0</td>\n",
       "      <td>1.0</td>\n",
       "      <td>29718.08</td>\n",
       "      <td>NaN</td>\n",
       "      <td>11564.5</td>\n",
       "      <td>5373.0</td>\n",
       "      <td>23464.8</td>\n",
       "      <td>5373.0</td>\n",
       "    </tr>\n",
       "    <tr>\n",
       "      <th>2</th>\n",
       "      <td>5.0</td>\n",
       "      <td>2016-06-26 18:54:31.835329</td>\n",
       "      <td>1.0</td>\n",
       "      <td>NaN</td>\n",
       "      <td>0.0</td>\n",
       "      <td>NaN</td>\n",
       "      <td>5.0</td>\n",
       "      <td>5.0</td>\n",
       "      <td>5.0</td>\n",
       "      <td>56.5</td>\n",
       "      <td>5.0</td>\n",
       "      <td>5.0</td>\n",
       "      <td>f</td>\n",
       "      <td>f</td>\n",
       "      <td>76.0</td>\n",
       "      <td>76.0</td>\n",
       "      <td>0.0</td>\n",
       "      <td>f7</td>\n",
       "      <td>f</td>\n",
       "      <td>f</td>\n",
       "      <td>f</td>\n",
       "      <td>f</td>\n",
       "      <td>f</td>\n",
       "      <td>NaN</td>\n",
       "      <td>f</td>\n",
       "      <td>...</td>\n",
       "      <td>f</td>\n",
       "      <td>f</td>\n",
       "      <td>f</td>\n",
       "      <td>t</td>\n",
       "      <td>f</td>\n",
       "      <td>f</td>\n",
       "      <td>f</td>\n",
       "      <td>f</td>\n",
       "      <td>f</td>\n",
       "      <td>f</td>\n",
       "      <td>f</td>\n",
       "      <td>f</td>\n",
       "      <td>1.0</td>\n",
       "      <td>2016-06-26 19:00:00</td>\n",
       "      <td>1.0</td>\n",
       "      <td>3.0</td>\n",
       "      <td>1200.0</td>\n",
       "      <td>1.0</td>\n",
       "      <td>1.0</td>\n",
       "      <td>29718.08</td>\n",
       "      <td>NaN</td>\n",
       "      <td>11564.5</td>\n",
       "      <td>5373.0</td>\n",
       "      <td>23464.8</td>\n",
       "      <td>5373.0</td>\n",
       "    </tr>\n",
       "    <tr>\n",
       "      <th>3</th>\n",
       "      <td>6.0</td>\n",
       "      <td>2016-06-26 18:54:31.873492</td>\n",
       "      <td>1.0</td>\n",
       "      <td>NaN</td>\n",
       "      <td>0.0</td>\n",
       "      <td>NaN</td>\n",
       "      <td>6.0</td>\n",
       "      <td>6.0</td>\n",
       "      <td>6.0</td>\n",
       "      <td>56.5</td>\n",
       "      <td>6.0</td>\n",
       "      <td>12.0</td>\n",
       "      <td>f</td>\n",
       "      <td>f</td>\n",
       "      <td>85.0</td>\n",
       "      <td>85.0</td>\n",
       "      <td>2.0</td>\n",
       "      <td>f6462</td>\n",
       "      <td>f</td>\n",
       "      <td>f</td>\n",
       "      <td>f</td>\n",
       "      <td>f</td>\n",
       "      <td>f</td>\n",
       "      <td>NaN</td>\n",
       "      <td>f</td>\n",
       "      <td>...</td>\n",
       "      <td>f</td>\n",
       "      <td>f</td>\n",
       "      <td>f</td>\n",
       "      <td>f</td>\n",
       "      <td>f</td>\n",
       "      <td>f</td>\n",
       "      <td>f</td>\n",
       "      <td>f</td>\n",
       "      <td>f</td>\n",
       "      <td>f</td>\n",
       "      <td>f</td>\n",
       "      <td>f</td>\n",
       "      <td>1.0</td>\n",
       "      <td>2016-06-26 19:00:00</td>\n",
       "      <td>1.0</td>\n",
       "      <td>3.0</td>\n",
       "      <td>1200.0</td>\n",
       "      <td>1.0</td>\n",
       "      <td>1.0</td>\n",
       "      <td>29718.08</td>\n",
       "      <td>NaN</td>\n",
       "      <td>11564.5</td>\n",
       "      <td>5373.0</td>\n",
       "      <td>23464.8</td>\n",
       "      <td>5373.0</td>\n",
       "    </tr>\n",
       "    <tr>\n",
       "      <th>4</th>\n",
       "      <td>1.0</td>\n",
       "      <td>2016-06-26 18:54:31.746854</td>\n",
       "      <td>1.0</td>\n",
       "      <td>NaN</td>\n",
       "      <td>0.0</td>\n",
       "      <td>NaN</td>\n",
       "      <td>1.0</td>\n",
       "      <td>1.0</td>\n",
       "      <td>1.0</td>\n",
       "      <td>58.5</td>\n",
       "      <td>1.0</td>\n",
       "      <td>8.0</td>\n",
       "      <td>f</td>\n",
       "      <td>f</td>\n",
       "      <td>89.0</td>\n",
       "      <td>89.0</td>\n",
       "      <td>0.0</td>\n",
       "      <td>34x0x</td>\n",
       "      <td>f</td>\n",
       "      <td>f</td>\n",
       "      <td>f</td>\n",
       "      <td>f</td>\n",
       "      <td>f</td>\n",
       "      <td>NaN</td>\n",
       "      <td>f</td>\n",
       "      <td>...</td>\n",
       "      <td>f</td>\n",
       "      <td>f</td>\n",
       "      <td>f</td>\n",
       "      <td>f</td>\n",
       "      <td>f</td>\n",
       "      <td>f</td>\n",
       "      <td>f</td>\n",
       "      <td>f</td>\n",
       "      <td>f</td>\n",
       "      <td>f</td>\n",
       "      <td>f</td>\n",
       "      <td>f</td>\n",
       "      <td>1.0</td>\n",
       "      <td>2016-06-26 19:00:00</td>\n",
       "      <td>1.0</td>\n",
       "      <td>3.0</td>\n",
       "      <td>1200.0</td>\n",
       "      <td>1.0</td>\n",
       "      <td>1.0</td>\n",
       "      <td>29718.08</td>\n",
       "      <td>NaN</td>\n",
       "      <td>11564.5</td>\n",
       "      <td>5373.0</td>\n",
       "      <td>23464.8</td>\n",
       "      <td>5373.0</td>\n",
       "    </tr>\n",
       "  </tbody>\n",
       "</table>\n",
       "<p>5 rows × 53 columns</p>\n",
       "</div>"
      ],
      "text/plain": [
       "   runner_id                collected_at  market_id  position  place_paid  \\\n",
       "0        4.0  2016-06-26 18:54:31.800293        1.0       NaN         1.0   \n",
       "1       10.0  2016-06-26 18:54:31.974395        1.0       NaN         0.0   \n",
       "2        5.0  2016-06-26 18:54:31.835329        1.0       NaN         0.0   \n",
       "3        6.0  2016-06-26 18:54:31.873492        1.0       NaN         0.0   \n",
       "4        1.0  2016-06-26 18:54:31.746854        1.0       NaN         0.0   \n",
       "\n",
       "   margin  horse_id  trainer_id  rider_id  handicap_weight  number  barrier  \\\n",
       "0     NaN       4.0         4.0       4.0             58.5     4.0     10.0   \n",
       "1     NaN      10.0         4.0      10.0             56.5    10.0     11.0   \n",
       "2     NaN       5.0         5.0       5.0             56.5     5.0      5.0   \n",
       "3     NaN       6.0         6.0       6.0             56.5     6.0     12.0   \n",
       "4     NaN       1.0         1.0       1.0             58.5     1.0      8.0   \n",
       "\n",
       "  blinkers emergency  form_rating_one  form_rating_two  form_rating_three  \\\n",
       "0        f         f             82.0             82.0               14.0   \n",
       "1        f         f            100.0            100.0               18.0   \n",
       "2        f         f             76.0             76.0                0.0   \n",
       "3        f         f             85.0             85.0                2.0   \n",
       "4        f         f             89.0             89.0                0.0   \n",
       "\n",
       "  last_five_starts favourite_odds_win favourite_odds_place favourite_pool_win  \\\n",
       "0            x80x2                  f                    f                  f   \n",
       "1            22x35                  f                    f                  f   \n",
       "2               f7                  f                    f                  f   \n",
       "3            f6462                  f                    f                  f   \n",
       "4            34x0x                  f                    f                  f   \n",
       "\n",
       "  favourite_pool_place tip_one_win  tip_one_place tip_two_win  \\\n",
       "0                    f           f            NaN           f   \n",
       "1                    f           f            NaN           f   \n",
       "2                    f           f            NaN           f   \n",
       "3                    f           f            NaN           f   \n",
       "4                    f           f            NaN           f   \n",
       "\n",
       "            ...           tip_four_win tip_four_place tip_five_win  \\\n",
       "0           ...                      t              t            t   \n",
       "1           ...                      f              f            f   \n",
       "2           ...                      f              f            f   \n",
       "3           ...                      f              f            f   \n",
       "4           ...                      f              f            f   \n",
       "\n",
       "  tip_five_place tip_six_win tip_six_place tip_seven_win tip_seven_place  \\\n",
       "0              t           f             t             f               t   \n",
       "1              f           f             f             f               f   \n",
       "2              t           f             f             f               f   \n",
       "3              f           f             f             f               f   \n",
       "4              f           f             f             f               f   \n",
       "\n",
       "  tip_eight_win tip_eight_place tip_nine_win tip_nine_place id_y  \\\n",
       "0             f               t            t              t  1.0   \n",
       "1             f               f            f              f  1.0   \n",
       "2             f               f            f              f  1.0   \n",
       "3             f               f            f              f  1.0   \n",
       "4             f               f            f              f  1.0   \n",
       "\n",
       "              timezone venue_id  race_number distance  condition_id  \\\n",
       "0  2016-06-26 19:00:00      1.0          3.0   1200.0           1.0   \n",
       "1  2016-06-26 19:00:00      1.0          3.0   1200.0           1.0   \n",
       "2  2016-06-26 19:00:00      1.0          3.0   1200.0           1.0   \n",
       "3  2016-06-26 19:00:00      1.0          3.0   1200.0           1.0   \n",
       "4  2016-06-26 19:00:00      1.0          3.0   1200.0           1.0   \n",
       "\n",
       "   weather_id  total_pool_one_win  total_pool_one_place  total_pool_two_win  \\\n",
       "0         1.0            29718.08                   NaN             11564.5   \n",
       "1         1.0            29718.08                   NaN             11564.5   \n",
       "2         1.0            29718.08                   NaN             11564.5   \n",
       "3         1.0            29718.08                   NaN             11564.5   \n",
       "4         1.0            29718.08                   NaN             11564.5   \n",
       "\n",
       "   total_pool_two_place  total_pool_three_win  total_pool_three_place  \n",
       "0                5373.0               23464.8                  5373.0  \n",
       "1                5373.0               23464.8                  5373.0  \n",
       "2                5373.0               23464.8                  5373.0  \n",
       "3                5373.0               23464.8                  5373.0  \n",
       "4                5373.0               23464.8                  5373.0  \n",
       "\n",
       "[5 rows x 53 columns]"
      ]
     },
     "execution_count": 4,
     "metadata": {},
     "output_type": "execute_result"
    }
   ],
   "source": [
    "df_runners_and_market.head()"
   ]
  },
  {
   "cell_type": "code",
   "execution_count": 6,
   "metadata": {
    "_cell_guid": "1a89f8e2-bb7a-8581-efca-9bdb907d5e91",
    "collapsed": false
   },
   "outputs": [
    {
     "name": "stderr",
     "output_type": "stream",
     "text": [
      "//anaconda/lib/python3.5/site-packages/ipykernel/__main__.py:18: SettingWithCopyWarning: \n",
      "A value is trying to be set on a copy of a slice from a DataFrame.\n",
      "Try using .loc[row_indexer,col_indexer] = value instead\n",
      "\n",
      "See the caveats in the documentation: http://pandas.pydata.org/pandas-docs/stable/indexing.html#indexing-view-versus-copy\n",
      "//anaconda/lib/python3.5/site-packages/pandas/core/indexing.py:461: SettingWithCopyWarning: \n",
      "A value is trying to be set on a copy of a slice from a DataFrame.\n",
      "Try using .loc[row_indexer,col_indexer] = value instead\n",
      "\n",
      "See the caveats in the documentation: http://pandas.pydata.org/pandas-docs/stable/indexing.html#indexing-view-versus-copy\n",
      "  self.obj[item] = s\n"
     ]
    }
   ],
   "source": [
    "numeric_features = ['position', 'horse_id', 'runner_id', 'market_id','barrier','handicap_weight']\n",
    "categorical_features = []\n",
    "\n",
    "#convert to factors\n",
    "'''for feature in categorical_features:\n",
    "    df_runners_and_market[feature] = df_runners_and_market[feature].astype(str)\n",
    "    df_runners_and_market[feature] = df_runners_and_market[feature].replace('nan','0') #have to do this because of a weird random forest bug\n",
    "\n",
    "    df_features = df_runners_and_market[numeric_features]\n",
    "\n",
    "for feature in categorical_features:\n",
    "    encoded_features = pd.get_dummies(df_runners_and_market[feature])\n",
    "    encoded_features.columns = feature + encoded_features.columns\n",
    "    df_features = pd.merge(df_features,encoded_features,left_index=True,right_index=True,how='inner') \n",
    "'''\n",
    "df_features = df_runners_and_market[numeric_features]\n",
    "#turn the target variable into a binary feature: did or did not win\n",
    "df_features['win'] = False\n",
    "df_features.loc[df_features['position'] == 1,'win'] = True\n",
    "#df_features = df_features.reset_index().rename(columns={'id_x': 'horse_id'})\n",
    "df_features = df_features.reindex(np.random.permutation(df_features.index))\n",
    "#del df_runners_and_market, encoded_features, df_features['position']"
   ]
  },
  {
   "cell_type": "code",
   "execution_count": 44,
   "metadata": {
    "collapsed": false
   },
   "outputs": [
    {
     "name": "stdout",
     "output_type": "stream",
     "text": [
      "0 out of 7372\n"
     ]
    },
    {
     "name": "stderr",
     "output_type": "stream",
     "text": [
      "//anaconda/lib/python3.5/site-packages/pandas/core/indexing.py:284: SettingWithCopyWarning: \n",
      "A value is trying to be set on a copy of a slice from a DataFrame.\n",
      "Try using .loc[row_indexer,col_indexer] = value instead\n",
      "\n",
      "See the caveats in the documentation: http://pandas.pydata.org/pandas-docs/stable/indexing.html#indexing-view-versus-copy\n",
      "  self.obj[key] = _infer_fill_value(value)\n",
      "//anaconda/lib/python3.5/site-packages/pandas/core/indexing.py:545: SettingWithCopyWarning: \n",
      "A value is trying to be set on a copy of a slice from a DataFrame.\n",
      "Try using .loc[row_indexer,col_indexer] = value instead\n",
      "\n",
      "See the caveats in the documentation: http://pandas.pydata.org/pandas-docs/stable/indexing.html#indexing-view-versus-copy\n",
      "  self.obj[item_labels[indexer[info_axis]]] = value\n"
     ]
    },
    {
     "name": "stdout",
     "output_type": "stream",
     "text": [
      "500 out of 7372\n",
      "1000 out of 7372\n",
      "1500 out of 7372\n",
      "2000 out of 7372\n",
      "2500 out of 7372\n",
      "3000 out of 7372\n",
      "3500 out of 7372\n",
      "4000 out of 7372\n",
      "4500 out of 7372\n",
      "5000 out of 7372\n",
      "5500 out of 7372\n",
      "6000 out of 7372\n",
      "6500 out of 7372\n",
      "7000 out of 7372\n"
     ]
    }
   ],
   "source": [
    "from makeRaces import shapeToRaces\n",
    "raceData, runnerClassDf = shapeToRaces(df_features)"
   ]
  },
  {
   "cell_type": "code",
   "execution_count": 81,
   "metadata": {
    "collapsed": false
   },
   "outputs": [],
   "source": [
    "pd.DataFrame(raceData).to_csv('raceDataBasic.csv', header=True, index=False)\n",
    "runnerClassDf.to_csv('runnerClassBasic.csv', header=True, index=False)\n"
   ]
  },
  {
   "cell_type": "code",
   "execution_count": 45,
   "metadata": {
    "collapsed": false
   },
   "outputs": [
    {
     "data": {
      "text/html": [
       "<div>\n",
       "<table border=\"1\" class=\"dataframe\">\n",
       "  <thead>\n",
       "    <tr style=\"text-align: right;\">\n",
       "      <th></th>\n",
       "      <th>class</th>\n",
       "      <th>horse_id</th>\n",
       "      <th>market_id</th>\n",
       "      <th>runner_id</th>\n",
       "    </tr>\n",
       "  </thead>\n",
       "  <tbody>\n",
       "    <tr>\n",
       "      <th>197</th>\n",
       "      <td>0.0</td>\n",
       "      <td>436.0</td>\n",
       "      <td>16.0</td>\n",
       "      <td>446.0</td>\n",
       "    </tr>\n",
       "    <tr>\n",
       "      <th>198</th>\n",
       "      <td>1.0</td>\n",
       "      <td>262.0</td>\n",
       "      <td>16.0</td>\n",
       "      <td>445.0</td>\n",
       "    </tr>\n",
       "    <tr>\n",
       "      <th>196</th>\n",
       "      <td>2.0</td>\n",
       "      <td>432.0</td>\n",
       "      <td>16.0</td>\n",
       "      <td>441.0</td>\n",
       "    </tr>\n",
       "    <tr>\n",
       "      <th>195</th>\n",
       "      <td>3.0</td>\n",
       "      <td>435.0</td>\n",
       "      <td>16.0</td>\n",
       "      <td>444.0</td>\n",
       "    </tr>\n",
       "    <tr>\n",
       "      <th>199</th>\n",
       "      <td>4.0</td>\n",
       "      <td>433.0</td>\n",
       "      <td>16.0</td>\n",
       "      <td>442.0</td>\n",
       "    </tr>\n",
       "  </tbody>\n",
       "</table>\n",
       "</div>"
      ],
      "text/plain": [
       "     class  horse_id  market_id  runner_id\n",
       "197    0.0     436.0       16.0      446.0\n",
       "198    1.0     262.0       16.0      445.0\n",
       "196    2.0     432.0       16.0      441.0\n",
       "195    3.0     435.0       16.0      444.0\n",
       "199    4.0     433.0       16.0      442.0"
      ]
     },
     "execution_count": 45,
     "metadata": {},
     "output_type": "execute_result"
    }
   ],
   "source": [
    "runnerClassDf.head()"
   ]
  },
  {
   "cell_type": "code",
   "execution_count": null,
   "metadata": {
    "collapsed": true
   },
   "outputs": [],
   "source": [
    "ru"
   ]
  },
  {
   "cell_type": "code",
   "execution_count": 71,
   "metadata": {
    "collapsed": false
   },
   "outputs": [
    {
     "name": "stdout",
     "output_type": "stream",
     "text": [
      "(4456, 53)\n"
     ]
    },
    {
     "data": {
      "text/plain": [
       "(1909, 53)"
      ]
     },
     "execution_count": 71,
     "metadata": {},
     "output_type": "execute_result"
    }
   ],
   "source": [
    "from runRacesMultiClass import trainTestSplit\n",
    "train, test = trainTestSplit(raceData)\n",
    "print(train.shape)\n",
    "test.shape"
   ]
  },
  {
   "cell_type": "code",
   "execution_count": 84,
   "metadata": {
    "collapsed": true
   },
   "outputs": [],
   "source": [
    "all_odds = pd.read_csv(\"input/odds.csv\")"
   ]
  },
  {
   "cell_type": "code",
   "execution_count": null,
   "metadata": {
    "collapsed": false
   },
   "outputs": [
    {
     "name": "stdout",
     "output_type": "stream",
     "text": [
      "trial 0\n",
      "fitting estimator\n"
     ]
    }
   ],
   "source": [
    "from runRacesMultiClass import runRaces\n",
    "from sklearn.linear_model import LogisticRegression\n",
    "winOrNot = df_features[['runner_id', 'win']]\n",
    "lr = LogisticRegression()\n",
    "runRaces(data=raceData,runnersClasses = runnerClassDf, \n",
    "         winOrNot=winOrNot, est=lr, allOdds= all_odds, n_trials=3)\n",
    "\n",
    "#classAndProb = fitModel(train, test, est=lr, runnersClasses=runnerClassDf)\n"
   ]
  },
  {
   "cell_type": "code",
   "execution_count": 82,
   "metadata": {
    "collapsed": false
   },
   "outputs": [
    {
     "data": {
      "text/html": [
       "<div>\n",
       "<table border=\"1\" class=\"dataframe\">\n",
       "  <thead>\n",
       "    <tr style=\"text-align: right;\">\n",
       "      <th></th>\n",
       "      <th>market_id</th>\n",
       "      <th>class</th>\n",
       "      <th>prob</th>\n",
       "      <th>horse_id</th>\n",
       "      <th>runner_id</th>\n",
       "    </tr>\n",
       "  </thead>\n",
       "  <tbody>\n",
       "    <tr>\n",
       "      <th>0</th>\n",
       "      <td>23.0</td>\n",
       "      <td>0.0</td>\n",
       "      <td>0.055860</td>\n",
       "      <td>266.0</td>\n",
       "      <td>268.0</td>\n",
       "    </tr>\n",
       "    <tr>\n",
       "      <th>1</th>\n",
       "      <td>23.0</td>\n",
       "      <td>1.0</td>\n",
       "      <td>0.141468</td>\n",
       "      <td>263.0</td>\n",
       "      <td>264.0</td>\n",
       "    </tr>\n",
       "    <tr>\n",
       "      <th>2</th>\n",
       "      <td>23.0</td>\n",
       "      <td>2.0</td>\n",
       "      <td>0.129215</td>\n",
       "      <td>267.0</td>\n",
       "      <td>269.0</td>\n",
       "    </tr>\n",
       "    <tr>\n",
       "      <th>3</th>\n",
       "      <td>23.0</td>\n",
       "      <td>3.0</td>\n",
       "      <td>0.062784</td>\n",
       "      <td>265.0</td>\n",
       "      <td>266.0</td>\n",
       "    </tr>\n",
       "    <tr>\n",
       "      <th>4</th>\n",
       "      <td>23.0</td>\n",
       "      <td>4.0</td>\n",
       "      <td>0.130407</td>\n",
       "      <td>272.0</td>\n",
       "      <td>275.0</td>\n",
       "    </tr>\n",
       "  </tbody>\n",
       "</table>\n",
       "</div>"
      ],
      "text/plain": [
       "   market_id  class      prob  horse_id  runner_id\n",
       "0       23.0    0.0  0.055860     266.0      268.0\n",
       "1       23.0    1.0  0.141468     263.0      264.0\n",
       "2       23.0    2.0  0.129215     267.0      269.0\n",
       "3       23.0    3.0  0.062784     265.0      266.0\n",
       "4       23.0    4.0  0.130407     272.0      275.0"
      ]
     },
     "execution_count": 82,
     "metadata": {},
     "output_type": "execute_result"
    }
   ],
   "source": [
    "classAndProb.head()"
   ]
  },
  {
   "cell_type": "code",
   "execution_count": 85,
   "metadata": {
    "collapsed": false
   },
   "outputs": [],
   "source": [
    "from runRacesMultiClass import addOdds\n",
    "classAndProb = addOdds(classAndProb, all_odds)"
   ]
  },
  {
   "cell_type": "code",
   "execution_count": 86,
   "metadata": {
    "collapsed": false
   },
   "outputs": [
    {
     "data": {
      "text/html": [
       "<div>\n",
       "<table border=\"1\" class=\"dataframe\">\n",
       "  <thead>\n",
       "    <tr style=\"text-align: right;\">\n",
       "      <th></th>\n",
       "      <th>market_id</th>\n",
       "      <th>class</th>\n",
       "      <th>prob</th>\n",
       "      <th>horse_id</th>\n",
       "      <th>runner_id</th>\n",
       "      <th>odds</th>\n",
       "    </tr>\n",
       "  </thead>\n",
       "  <tbody>\n",
       "    <tr>\n",
       "      <th>0</th>\n",
       "      <td>23.0</td>\n",
       "      <td>0.0</td>\n",
       "      <td>0.055860</td>\n",
       "      <td>266.0</td>\n",
       "      <td>268.0</td>\n",
       "      <td>11.88</td>\n",
       "    </tr>\n",
       "    <tr>\n",
       "      <th>1</th>\n",
       "      <td>23.0</td>\n",
       "      <td>1.0</td>\n",
       "      <td>0.141468</td>\n",
       "      <td>263.0</td>\n",
       "      <td>264.0</td>\n",
       "      <td>23.30</td>\n",
       "    </tr>\n",
       "    <tr>\n",
       "      <th>2</th>\n",
       "      <td>23.0</td>\n",
       "      <td>2.0</td>\n",
       "      <td>0.129215</td>\n",
       "      <td>267.0</td>\n",
       "      <td>269.0</td>\n",
       "      <td>35.80</td>\n",
       "    </tr>\n",
       "    <tr>\n",
       "      <th>3</th>\n",
       "      <td>23.0</td>\n",
       "      <td>3.0</td>\n",
       "      <td>0.062784</td>\n",
       "      <td>265.0</td>\n",
       "      <td>266.0</td>\n",
       "      <td>11.90</td>\n",
       "    </tr>\n",
       "    <tr>\n",
       "      <th>4</th>\n",
       "      <td>23.0</td>\n",
       "      <td>5.0</td>\n",
       "      <td>0.044976</td>\n",
       "      <td>270.0</td>\n",
       "      <td>273.0</td>\n",
       "      <td>10.31</td>\n",
       "    </tr>\n",
       "  </tbody>\n",
       "</table>\n",
       "</div>"
      ],
      "text/plain": [
       "   market_id  class      prob  horse_id  runner_id   odds\n",
       "0       23.0    0.0  0.055860     266.0      268.0  11.88\n",
       "1       23.0    1.0  0.141468     263.0      264.0  23.30\n",
       "2       23.0    2.0  0.129215     267.0      269.0  35.80\n",
       "3       23.0    3.0  0.062784     265.0      266.0  11.90\n",
       "4       23.0    5.0  0.044976     270.0      273.0  10.31"
      ]
     },
     "execution_count": 86,
     "metadata": {},
     "output_type": "execute_result"
    }
   ],
   "source": [
    "classAndProb.head()"
   ]
  },
  {
   "cell_type": "code",
   "execution_count": 88,
   "metadata": {
    "collapsed": false
   },
   "outputs": [
    {
     "name": "stdout",
     "output_type": "stream",
     "text": [
      "Total bets: 9642\n",
      "Total wins: 367\n"
     ]
    },
    {
     "data": {
      "text/plain": [
       "-20.38"
      ]
     },
     "execution_count": 88,
     "metadata": {},
     "output_type": "execute_result"
    }
   ],
   "source": [
    "from runRacesMultiClass import placeBets\n",
    "classAndProb = classAndProb.merge(df_features[['runner_id', 'win']], on='runner_id')\n",
    "placeBets(classAndProb)"
   ]
  },
  {
   "cell_type": "code",
   "execution_count": null,
   "metadata": {
    "collapsed": true
   },
   "outputs": [],
   "source": []
  },
  {
   "cell_type": "code",
   "execution_count": 15,
   "metadata": {
    "collapsed": true
   },
   "outputs": [],
   "source": [
    "%reload_ext autoreload"
   ]
  },
  {
   "cell_type": "code",
   "execution_count": 78,
   "metadata": {
    "collapsed": true
   },
   "outputs": [],
   "source": [
    "probs = lr.predict_proba(X)\n",
    "\n",
    "market_ids = X_test[:,-1].T\n",
    "\n",
    "probs_df = pd.DataFrame()\n",
    "probs_re = probs_df.set_index('market_id').stack().reset_index().rename(columns={0:'prob', 'level_1':'class'})\n",
    "\n",
    "probs_re['class'] = probs_re['class'].astype(float)\n",
    "\n",
    "classAndProb = probs_re.merge(runnerClassDf, on=['market_id', 'class'])"
   ]
  },
  {
   "cell_type": "code",
   "execution_count": 187,
   "metadata": {
    "collapsed": false
   },
   "outputs": [],
   "source": [
    "classAndProb = classAndProb.merge(df_features[['runner_id', 'win']], on='runner_id')"
   ]
  }
 ],
 "metadata": {
  "_change_revision": 3,
  "_is_fork": false,
  "kernelspec": {
   "display_name": "Python 3",
   "language": "python",
   "name": "python3"
  },
  "language_info": {
   "codemirror_mode": {
    "name": "ipython",
    "version": 3
   },
   "file_extension": ".py",
   "mimetype": "text/x-python",
   "name": "python",
   "nbconvert_exporter": "python",
   "pygments_lexer": "ipython3",
   "version": "3.5.1"
  }
 },
 "nbformat": 4,
 "nbformat_minor": 0
}
