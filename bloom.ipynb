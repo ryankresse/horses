{
 "cells": [
  {
   "cell_type": "markdown",
   "metadata": {
    "_cell_guid": "9e126ef5-7167-96a9-e3e3-398c6e3b238b"
   },
   "source": [
    "This notebook is a first step to exploring whether it's possible to predict horses races more accurately than the betting markets. It includes feature exploration, feature engineering, a basic XGBoost model, a betting strategy and calculates my profit or loss. \n",
    "\n",
    "This notebook doesn't rigorously test whether the strategy systematically makes money, but my sense is that it probably doesn't. The results change pretty dramatically when I change the test-train split. This could be because of a bug, or could be because the model is ~random because I have very few features (and I'm not using the most interesting features. \n",
    "\n",
    "Hopefully somebody can use this starting point and extend it. I'm happy to answer any questions if you don't understand anything I've done.\n",
    "\n",
    "Ideas for improvements (ordered by priority):\n",
    "\n",
    " - Include additional features: most importantly form.\n",
    " - Create a betting strategy where you don't bet on every race but only those where there's a big discrepancy between your predictions and the odds \n",
    " - Setup a cross validation framework. \n",
    " - Look at feature importance and partial plots to make sure the model is behaving properly.\n",
    " - I'm treating this as a binary prediction problem (predicting the probability that each horse will win). This throws away information. There are probably better ways to setup the problem. \n",
    " - Possibly include a model that also predicts place.\n"
   ]
  },
  {
   "cell_type": "code",
   "execution_count": 1,
   "metadata": {
    "_cell_guid": "94bcf5b2-09f7-eada-edf4-48697992061f",
    "collapsed": false
   },
   "outputs": [],
   "source": [
    "import pandas as pd\n",
    "import xgboost as xgb\n",
    "import numpy as np\n",
    "\n",
    "#useful for displaying wide data frames\n",
    "pd.set_option('display.max_columns', 50)"
   ]
  },
  {
   "cell_type": "markdown",
   "metadata": {
    "collapsed": false
   },
   "source": [
    "'''h = \"ste\"\n",
    "def getLastTwenty(x):\n",
    "    x = x.replace('x', \"\")\n",
    "    x = x.replace('f', \"9\")\n",
    "    arr = [int(ch) for ch in x]\n",
    "    avg = np.sum(arr) / len(arr)\n",
    "    return avg\n",
    "\n",
    "forms.iloc[0:2, :]['last_twenty_starts'].apply(getLastTwenty)\n",
    "''' "
   ]
  },
  {
   "cell_type": "code",
   "execution_count": 2,
   "metadata": {
    "_cell_guid": "7bb48b2c-d20a-ae8e-ef75-6289e6d558dd",
    "collapsed": false
   },
   "outputs": [],
   "source": [
    "#load the data into Pandas dataframes\n",
    "df_market = pd.read_csv(\"input/markets.csv\")\n",
    "df_runners = pd.read_csv(\"input/runners.csv\",dtype={'barrier': np.int16,'handicap_weight': np.float16})\n",
    "\n",
    "#for my simple model, I'm ignoring other columns. I recommend starting with form if you're looking to add features\n",
    "#df_odds = pd.read_csv(\"../input/odds.csv\")\n",
    "#df_form = pd.read_csv(\"../input/forms.csv\")\n",
    "#df_condition = pd.read_csv(\"../input/conditions.csv\")\n",
    "#df_weather = (\"../input/weather.csv\")\n",
    "#df_rider = (\"../input/riders.csv\")\n",
    "#df_horse = (\"../input/horses.csv\")\n",
    "#df_horse_sex = (\"../input/horse_sexes.csv\")"
   ]
  },
  {
   "cell_type": "markdown",
   "metadata": {
    "_cell_guid": "81468b4c-bf1a-907d-c3fd-e4ac50cd5c81"
   },
   "source": [
    "# Inital Exploration\n",
    "Looking at the data and some basic relationships"
   ]
  },
  {
   "cell_type": "code",
   "execution_count": 3,
   "metadata": {
    "_cell_guid": "d489212c-c218-d80f-12b4-9087f4f0b443",
    "collapsed": false
   },
   "outputs": [
    {
     "data": {
      "text/html": [
       "<div>\n",
       "<table border=\"1\" class=\"dataframe\">\n",
       "  <thead>\n",
       "    <tr style=\"text-align: right;\">\n",
       "      <th></th>\n",
       "      <th>id</th>\n",
       "      <th>timezone</th>\n",
       "      <th>venue_id</th>\n",
       "      <th>race_number</th>\n",
       "      <th>distance</th>\n",
       "      <th>condition_id</th>\n",
       "      <th>weather_id</th>\n",
       "      <th>total_pool_one_win</th>\n",
       "      <th>total_pool_one_place</th>\n",
       "      <th>total_pool_two_win</th>\n",
       "      <th>total_pool_two_place</th>\n",
       "      <th>total_pool_three_win</th>\n",
       "      <th>total_pool_three_place</th>\n",
       "    </tr>\n",
       "  </thead>\n",
       "  <tbody>\n",
       "    <tr>\n",
       "      <th>0</th>\n",
       "      <td>1</td>\n",
       "      <td>2016-06-26 19:00:00</td>\n",
       "      <td>1</td>\n",
       "      <td>3</td>\n",
       "      <td>1200</td>\n",
       "      <td>1.0</td>\n",
       "      <td>1.0</td>\n",
       "      <td>29718.08</td>\n",
       "      <td>NaN</td>\n",
       "      <td>11564.5</td>\n",
       "      <td>5373.0</td>\n",
       "      <td>23464.80</td>\n",
       "      <td>5373.0</td>\n",
       "    </tr>\n",
       "    <tr>\n",
       "      <th>1</th>\n",
       "      <td>2</td>\n",
       "      <td>2016-06-26 19:05:00</td>\n",
       "      <td>2</td>\n",
       "      <td>2</td>\n",
       "      <td>1200</td>\n",
       "      <td>2.0</td>\n",
       "      <td>2.0</td>\n",
       "      <td>16169.99</td>\n",
       "      <td>NaN</td>\n",
       "      <td>12624.0</td>\n",
       "      <td>3681.0</td>\n",
       "      <td>9001.42</td>\n",
       "      <td>3681.0</td>\n",
       "    </tr>\n",
       "    <tr>\n",
       "      <th>2</th>\n",
       "      <td>3</td>\n",
       "      <td>2016-06-26 19:30:00</td>\n",
       "      <td>1</td>\n",
       "      <td>4</td>\n",
       "      <td>1400</td>\n",
       "      <td>1.0</td>\n",
       "      <td>1.0</td>\n",
       "      <td>12282.57</td>\n",
       "      <td>NaN</td>\n",
       "      <td>13233.0</td>\n",
       "      <td>5816.0</td>\n",
       "      <td>24191.10</td>\n",
       "      <td>5816.0</td>\n",
       "    </tr>\n",
       "    <tr>\n",
       "      <th>3</th>\n",
       "      <td>4</td>\n",
       "      <td>2016-06-26 19:40:00</td>\n",
       "      <td>2</td>\n",
       "      <td>3</td>\n",
       "      <td>1400</td>\n",
       "      <td>2.0</td>\n",
       "      <td>2.0</td>\n",
       "      <td>13000.05</td>\n",
       "      <td>NaN</td>\n",
       "      <td>14416.5</td>\n",
       "      <td>6568.5</td>\n",
       "      <td>11542.20</td>\n",
       "      <td>6568.5</td>\n",
       "    </tr>\n",
       "    <tr>\n",
       "      <th>4</th>\n",
       "      <td>5</td>\n",
       "      <td>2016-06-26 20:00:00</td>\n",
       "      <td>1</td>\n",
       "      <td>5</td>\n",
       "      <td>1600</td>\n",
       "      <td>1.0</td>\n",
       "      <td>1.0</td>\n",
       "      <td>16194.21</td>\n",
       "      <td>NaN</td>\n",
       "      <td>16076.5</td>\n",
       "      <td>6875.5</td>\n",
       "      <td>28934.60</td>\n",
       "      <td>6875.5</td>\n",
       "    </tr>\n",
       "  </tbody>\n",
       "</table>\n",
       "</div>"
      ],
      "text/plain": [
       "   id             timezone  venue_id  race_number  distance  condition_id  \\\n",
       "0   1  2016-06-26 19:00:00         1            3      1200           1.0   \n",
       "1   2  2016-06-26 19:05:00         2            2      1200           2.0   \n",
       "2   3  2016-06-26 19:30:00         1            4      1400           1.0   \n",
       "3   4  2016-06-26 19:40:00         2            3      1400           2.0   \n",
       "4   5  2016-06-26 20:00:00         1            5      1600           1.0   \n",
       "\n",
       "   weather_id  total_pool_one_win  total_pool_one_place  total_pool_two_win  \\\n",
       "0         1.0            29718.08                   NaN             11564.5   \n",
       "1         2.0            16169.99                   NaN             12624.0   \n",
       "2         1.0            12282.57                   NaN             13233.0   \n",
       "3         2.0            13000.05                   NaN             14416.5   \n",
       "4         1.0            16194.21                   NaN             16076.5   \n",
       "\n",
       "   total_pool_two_place  total_pool_three_win  total_pool_three_place  \n",
       "0                5373.0              23464.80                  5373.0  \n",
       "1                3681.0               9001.42                  3681.0  \n",
       "2                5816.0              24191.10                  5816.0  \n",
       "3                6568.5              11542.20                  6568.5  \n",
       "4                6875.5              28934.60                  6875.5  "
      ]
     },
     "execution_count": 3,
     "metadata": {},
     "output_type": "execute_result"
    }
   ],
   "source": [
    "#look at the first fives rows of the market table\n",
    "df_market[0:5]"
   ]
  },
  {
   "cell_type": "code",
   "execution_count": 4,
   "metadata": {
    "_cell_guid": "85ff635c-2629-6062-6920-9351c41c6e94",
    "collapsed": false
   },
   "outputs": [
    {
     "data": {
      "text/html": [
       "<div>\n",
       "<table border=\"1\" class=\"dataframe\">\n",
       "  <thead>\n",
       "    <tr style=\"text-align: right;\">\n",
       "      <th></th>\n",
       "      <th>id</th>\n",
       "      <th>collected_at</th>\n",
       "      <th>market_id</th>\n",
       "      <th>position</th>\n",
       "      <th>place_paid</th>\n",
       "      <th>margin</th>\n",
       "      <th>horse_id</th>\n",
       "      <th>trainer_id</th>\n",
       "      <th>rider_id</th>\n",
       "      <th>handicap_weight</th>\n",
       "      <th>number</th>\n",
       "      <th>barrier</th>\n",
       "      <th>blinkers</th>\n",
       "      <th>emergency</th>\n",
       "      <th>form_rating_one</th>\n",
       "      <th>form_rating_two</th>\n",
       "      <th>form_rating_three</th>\n",
       "      <th>last_five_starts</th>\n",
       "      <th>favourite_odds_win</th>\n",
       "      <th>favourite_odds_place</th>\n",
       "      <th>favourite_pool_win</th>\n",
       "      <th>favourite_pool_place</th>\n",
       "      <th>tip_one_win</th>\n",
       "      <th>tip_one_place</th>\n",
       "      <th>tip_two_win</th>\n",
       "      <th>tip_two_place</th>\n",
       "      <th>tip_three_win</th>\n",
       "      <th>tip_three_place</th>\n",
       "      <th>tip_four_win</th>\n",
       "      <th>tip_four_place</th>\n",
       "      <th>tip_five_win</th>\n",
       "      <th>tip_five_place</th>\n",
       "      <th>tip_six_win</th>\n",
       "      <th>tip_six_place</th>\n",
       "      <th>tip_seven_win</th>\n",
       "      <th>tip_seven_place</th>\n",
       "      <th>tip_eight_win</th>\n",
       "      <th>tip_eight_place</th>\n",
       "      <th>tip_nine_win</th>\n",
       "      <th>tip_nine_place</th>\n",
       "    </tr>\n",
       "  </thead>\n",
       "  <tbody>\n",
       "    <tr>\n",
       "      <th>0</th>\n",
       "      <td>4</td>\n",
       "      <td>2016-06-26 18:54:31.800293</td>\n",
       "      <td>1</td>\n",
       "      <td>NaN</td>\n",
       "      <td>1</td>\n",
       "      <td>NaN</td>\n",
       "      <td>4</td>\n",
       "      <td>4.0</td>\n",
       "      <td>4.0</td>\n",
       "      <td>58.5</td>\n",
       "      <td>4</td>\n",
       "      <td>10</td>\n",
       "      <td>f</td>\n",
       "      <td>f</td>\n",
       "      <td>82.0</td>\n",
       "      <td>82.0</td>\n",
       "      <td>14.0</td>\n",
       "      <td>x80x2</td>\n",
       "      <td>f</td>\n",
       "      <td>f</td>\n",
       "      <td>f</td>\n",
       "      <td>f</td>\n",
       "      <td>f</td>\n",
       "      <td>NaN</td>\n",
       "      <td>f</td>\n",
       "      <td>t</td>\n",
       "      <td>f</td>\n",
       "      <td>t</td>\n",
       "      <td>t</td>\n",
       "      <td>t</td>\n",
       "      <td>t</td>\n",
       "      <td>t</td>\n",
       "      <td>f</td>\n",
       "      <td>t</td>\n",
       "      <td>f</td>\n",
       "      <td>t</td>\n",
       "      <td>f</td>\n",
       "      <td>t</td>\n",
       "      <td>t</td>\n",
       "      <td>t</td>\n",
       "    </tr>\n",
       "    <tr>\n",
       "      <th>1</th>\n",
       "      <td>10</td>\n",
       "      <td>2016-06-26 18:54:31.974395</td>\n",
       "      <td>1</td>\n",
       "      <td>NaN</td>\n",
       "      <td>0</td>\n",
       "      <td>NaN</td>\n",
       "      <td>10</td>\n",
       "      <td>4.0</td>\n",
       "      <td>10.0</td>\n",
       "      <td>56.5</td>\n",
       "      <td>10</td>\n",
       "      <td>11</td>\n",
       "      <td>f</td>\n",
       "      <td>f</td>\n",
       "      <td>100.0</td>\n",
       "      <td>100.0</td>\n",
       "      <td>18.0</td>\n",
       "      <td>22x35</td>\n",
       "      <td>f</td>\n",
       "      <td>f</td>\n",
       "      <td>f</td>\n",
       "      <td>f</td>\n",
       "      <td>f</td>\n",
       "      <td>NaN</td>\n",
       "      <td>f</td>\n",
       "      <td>f</td>\n",
       "      <td>f</td>\n",
       "      <td>f</td>\n",
       "      <td>f</td>\n",
       "      <td>f</td>\n",
       "      <td>f</td>\n",
       "      <td>f</td>\n",
       "      <td>f</td>\n",
       "      <td>f</td>\n",
       "      <td>f</td>\n",
       "      <td>f</td>\n",
       "      <td>f</td>\n",
       "      <td>f</td>\n",
       "      <td>f</td>\n",
       "      <td>f</td>\n",
       "    </tr>\n",
       "    <tr>\n",
       "      <th>2</th>\n",
       "      <td>5</td>\n",
       "      <td>2016-06-26 18:54:31.835329</td>\n",
       "      <td>1</td>\n",
       "      <td>NaN</td>\n",
       "      <td>0</td>\n",
       "      <td>NaN</td>\n",
       "      <td>5</td>\n",
       "      <td>5.0</td>\n",
       "      <td>5.0</td>\n",
       "      <td>56.5</td>\n",
       "      <td>5</td>\n",
       "      <td>5</td>\n",
       "      <td>f</td>\n",
       "      <td>f</td>\n",
       "      <td>76.0</td>\n",
       "      <td>76.0</td>\n",
       "      <td>0.0</td>\n",
       "      <td>f7</td>\n",
       "      <td>f</td>\n",
       "      <td>f</td>\n",
       "      <td>f</td>\n",
       "      <td>f</td>\n",
       "      <td>f</td>\n",
       "      <td>NaN</td>\n",
       "      <td>f</td>\n",
       "      <td>f</td>\n",
       "      <td>f</td>\n",
       "      <td>f</td>\n",
       "      <td>f</td>\n",
       "      <td>f</td>\n",
       "      <td>f</td>\n",
       "      <td>t</td>\n",
       "      <td>f</td>\n",
       "      <td>f</td>\n",
       "      <td>f</td>\n",
       "      <td>f</td>\n",
       "      <td>f</td>\n",
       "      <td>f</td>\n",
       "      <td>f</td>\n",
       "      <td>f</td>\n",
       "    </tr>\n",
       "    <tr>\n",
       "      <th>3</th>\n",
       "      <td>6</td>\n",
       "      <td>2016-06-26 18:54:31.873492</td>\n",
       "      <td>1</td>\n",
       "      <td>NaN</td>\n",
       "      <td>0</td>\n",
       "      <td>NaN</td>\n",
       "      <td>6</td>\n",
       "      <td>6.0</td>\n",
       "      <td>6.0</td>\n",
       "      <td>56.5</td>\n",
       "      <td>6</td>\n",
       "      <td>12</td>\n",
       "      <td>f</td>\n",
       "      <td>f</td>\n",
       "      <td>85.0</td>\n",
       "      <td>85.0</td>\n",
       "      <td>2.0</td>\n",
       "      <td>f6462</td>\n",
       "      <td>f</td>\n",
       "      <td>f</td>\n",
       "      <td>f</td>\n",
       "      <td>f</td>\n",
       "      <td>f</td>\n",
       "      <td>NaN</td>\n",
       "      <td>f</td>\n",
       "      <td>f</td>\n",
       "      <td>f</td>\n",
       "      <td>f</td>\n",
       "      <td>f</td>\n",
       "      <td>f</td>\n",
       "      <td>f</td>\n",
       "      <td>f</td>\n",
       "      <td>f</td>\n",
       "      <td>f</td>\n",
       "      <td>f</td>\n",
       "      <td>f</td>\n",
       "      <td>f</td>\n",
       "      <td>f</td>\n",
       "      <td>f</td>\n",
       "      <td>f</td>\n",
       "    </tr>\n",
       "    <tr>\n",
       "      <th>4</th>\n",
       "      <td>1</td>\n",
       "      <td>2016-06-26 18:54:31.746854</td>\n",
       "      <td>1</td>\n",
       "      <td>NaN</td>\n",
       "      <td>0</td>\n",
       "      <td>NaN</td>\n",
       "      <td>1</td>\n",
       "      <td>1.0</td>\n",
       "      <td>1.0</td>\n",
       "      <td>58.5</td>\n",
       "      <td>1</td>\n",
       "      <td>8</td>\n",
       "      <td>f</td>\n",
       "      <td>f</td>\n",
       "      <td>89.0</td>\n",
       "      <td>89.0</td>\n",
       "      <td>0.0</td>\n",
       "      <td>34x0x</td>\n",
       "      <td>f</td>\n",
       "      <td>f</td>\n",
       "      <td>f</td>\n",
       "      <td>f</td>\n",
       "      <td>f</td>\n",
       "      <td>NaN</td>\n",
       "      <td>f</td>\n",
       "      <td>f</td>\n",
       "      <td>f</td>\n",
       "      <td>f</td>\n",
       "      <td>f</td>\n",
       "      <td>f</td>\n",
       "      <td>f</td>\n",
       "      <td>f</td>\n",
       "      <td>f</td>\n",
       "      <td>f</td>\n",
       "      <td>f</td>\n",
       "      <td>f</td>\n",
       "      <td>f</td>\n",
       "      <td>f</td>\n",
       "      <td>f</td>\n",
       "      <td>f</td>\n",
       "    </tr>\n",
       "  </tbody>\n",
       "</table>\n",
       "</div>"
      ],
      "text/plain": [
       "   id                collected_at  market_id  position  place_paid  margin  \\\n",
       "0   4  2016-06-26 18:54:31.800293          1       NaN           1     NaN   \n",
       "1  10  2016-06-26 18:54:31.974395          1       NaN           0     NaN   \n",
       "2   5  2016-06-26 18:54:31.835329          1       NaN           0     NaN   \n",
       "3   6  2016-06-26 18:54:31.873492          1       NaN           0     NaN   \n",
       "4   1  2016-06-26 18:54:31.746854          1       NaN           0     NaN   \n",
       "\n",
       "   horse_id  trainer_id  rider_id  handicap_weight  number  barrier blinkers  \\\n",
       "0         4         4.0       4.0             58.5       4       10        f   \n",
       "1        10         4.0      10.0             56.5      10       11        f   \n",
       "2         5         5.0       5.0             56.5       5        5        f   \n",
       "3         6         6.0       6.0             56.5       6       12        f   \n",
       "4         1         1.0       1.0             58.5       1        8        f   \n",
       "\n",
       "  emergency  form_rating_one  form_rating_two  form_rating_three  \\\n",
       "0         f             82.0             82.0               14.0   \n",
       "1         f            100.0            100.0               18.0   \n",
       "2         f             76.0             76.0                0.0   \n",
       "3         f             85.0             85.0                2.0   \n",
       "4         f             89.0             89.0                0.0   \n",
       "\n",
       "  last_five_starts favourite_odds_win favourite_odds_place favourite_pool_win  \\\n",
       "0            x80x2                  f                    f                  f   \n",
       "1            22x35                  f                    f                  f   \n",
       "2               f7                  f                    f                  f   \n",
       "3            f6462                  f                    f                  f   \n",
       "4            34x0x                  f                    f                  f   \n",
       "\n",
       "  favourite_pool_place tip_one_win  tip_one_place tip_two_win tip_two_place  \\\n",
       "0                    f           f            NaN           f             t   \n",
       "1                    f           f            NaN           f             f   \n",
       "2                    f           f            NaN           f             f   \n",
       "3                    f           f            NaN           f             f   \n",
       "4                    f           f            NaN           f             f   \n",
       "\n",
       "  tip_three_win tip_three_place tip_four_win tip_four_place tip_five_win  \\\n",
       "0             f               t            t              t            t   \n",
       "1             f               f            f              f            f   \n",
       "2             f               f            f              f            f   \n",
       "3             f               f            f              f            f   \n",
       "4             f               f            f              f            f   \n",
       "\n",
       "  tip_five_place tip_six_win tip_six_place tip_seven_win tip_seven_place  \\\n",
       "0              t           f             t             f               t   \n",
       "1              f           f             f             f               f   \n",
       "2              t           f             f             f               f   \n",
       "3              f           f             f             f               f   \n",
       "4              f           f             f             f               f   \n",
       "\n",
       "  tip_eight_win tip_eight_place tip_nine_win tip_nine_place  \n",
       "0             f               t            t              t  \n",
       "1             f               f            f              f  \n",
       "2             f               f            f              f  \n",
       "3             f               f            f              f  \n",
       "4             f               f            f              f  "
      ]
     },
     "execution_count": 4,
     "metadata": {},
     "output_type": "execute_result"
    }
   ],
   "source": [
    "#look at the first fives rows of the runners table\n",
    "df_runners[0:5]"
   ]
  },
  {
   "cell_type": "markdown",
   "metadata": {
    "_cell_guid": "17f3b38b-546a-0291-698a-31219e665b70"
   },
   "source": [
    "## Importance of Barrier\n",
    "Horses that draw barriers 1-6 win more often. Horses that draw 16 or worse rarely win "
   ]
  },
  {
   "cell_type": "markdown",
   "metadata": {
    "_cell_guid": "681c18e8-8ec7-7939-a428-ab0b6a048235",
    "collapsed": false
   },
   "source": [
    "#explore the barriers feature: does it look like it impacts chances of victory?\n",
    "winners_by_barrier = df_runners[df_runners['position'] == 1][['id','barrier']].groupby('barrier').agg(['count'])\n",
    "barrier_count = df_runners[['id','barrier']].groupby('barrier').agg(['count'])\n",
    "pct_winner_by_barrier = winners_by_barrier/barrier_count[barrier_count.index.isin(winners_by_barrier.index)]\n",
    "ax = pct_winner_by_barrier.plot(kind='bar')\n",
    "ax.set_ylabel(\"Win Percentage\")\n",
    "\n",
    "#this notebook pushes up against memory limits. So I'm aggressive with garbage collection.\n",
    "del winners_by_barrier, barrier_count, pct_winner_by_barrier"
   ]
  },
  {
   "cell_type": "markdown",
   "metadata": {
    "_cell_guid": "be5f0deb-f4ec-df92-8a54-b05a5d94cd0f"
   },
   "source": [
    "# Handicap\n",
    "Heavier horses win more often, suggesting that weights aren't a sufficient handicap for better horses"
   ]
  },
  {
   "cell_type": "markdown",
   "metadata": {
    "_cell_guid": "1b02a2c7-578d-e2cd-3808-787b107a4268",
    "collapsed": false
   },
   "source": [
    "#explore weight: does it looks like it has an impact?\n",
    "winners_by_weight = df_runners[df_runners['position'] == 1][['id','handicap_weight']].groupby('handicap_weight').agg(['count'])\n",
    "winners_by_weight = winners_by_weight[winners_by_weight > 30].dropna()\n",
    "weight_count = df_runners[['id','handicap_weight']].groupby('handicap_weight').agg(['count'])\n",
    "pct_winners_by_weight = winners_by_weight/weight_count[weight_count.index.isin(winners_by_weight.index)]\n",
    "ax = pct_winners_by_weight.plot(kind='bar')\n",
    "ax.set_ylabel(\"Win Percentage\")\n",
    "del winners_by_weight, weight_count, pct_winners_by_weight"
   ]
  },
  {
   "cell_type": "markdown",
   "metadata": {
    "_cell_guid": "72789f9a-1145-09ec-2dbe-c102e1ec8887"
   },
   "source": [
    "#Rider Quality\n",
    "The best riders win ~three times as often as the worst "
   ]
  },
  {
   "cell_type": "markdown",
   "metadata": {
    "_cell_guid": "6fd4757b-06af-74db-59b3-1d5c2c6a9f01",
    "collapsed": false
   },
   "source": [
    "#explore weight: does it looks like it has an impact?\n",
    "winners_by_rider = df_runners[df_runners['position'] == 1][['id','rider_id']].groupby('rider_id').agg(['count'])\n",
    "#only inclide riders who have more than 10 races\n",
    "winners_by_rider =winners_by_rider[winners_by_rider > 10].dropna()\n",
    "rider_count = df_runners[['id','rider_id']].groupby('rider_id').agg(['count'])\n",
    "rider_count = rider_count[rider_count.index.isin(winners_by_rider.index)]\n",
    "pct_winners_by_rider = winners_by_rider/rider_count\n",
    "pct_winners_by_rider.columns = ['Win_Percentage']\n",
    "pct_winners_by_rider = pct_winners_by_rider.sort_values(by='Win_Percentage',ascending=False)\n",
    "ax = pct_winners_by_rider.plot(kind='bar')\n",
    "ax.set_ylabel(\"Win Percentage\")\n",
    "del winners_by_rider, rider_count, pct_winners_by_rider"
   ]
  },
  {
   "cell_type": "markdown",
   "metadata": {
    "_cell_guid": "558a5975-0f7d-342a-8ca9-e5e496ca262a"
   },
   "source": [
    "# Create Feature Matrix\n",
    "The exploration above suggests that barrier, weight and rider are valuable features for predicting winners. I've included all those features."
   ]
  },
  {
   "cell_type": "code",
   "execution_count": 5,
   "metadata": {
    "_cell_guid": "5cf5d552-dede-df4c-a0ec-dc012957eea4",
    "collapsed": true
   },
   "outputs": [],
   "source": [
    "##merge the runners and markets data frames\n",
    "df_runners_and_market = pd.merge(df_runners, df_market,left_on='market_id',right_on='id',how='inner')\n",
    "df_runners_and_market.index = df_runners_and_market['id_x'] \n"
   ]
  },
  {
   "cell_type": "code",
   "execution_count": 6,
   "metadata": {
    "collapsed": true
   },
   "outputs": [],
   "source": [
    "forms = pd.read_csv('input/forms.csv')"
   ]
  },
  {
   "cell_type": "code",
   "execution_count": 7,
   "metadata": {
    "collapsed": false
   },
   "outputs": [],
   "source": [
    "df_runners_and_market = df_runners_and_market.join(forms[['overall_starts','overall_wins', 'overall_places', 'track_starts', 'track_wins']], on='horse_id')"
   ]
  },
  {
   "cell_type": "code",
   "execution_count": 8,
   "metadata": {
    "collapsed": false
   },
   "outputs": [
    {
     "ename": "NameError",
     "evalue": "name 'runRaces' is not defined",
     "output_type": "error",
     "traceback": [
      "\u001b[0;31m---------------------------------------------------------------------------\u001b[0m",
      "\u001b[0;31mNameError\u001b[0m                                 Traceback (most recent call last)",
      "\u001b[0;32m<ipython-input-8-3272171a380c>\u001b[0m in \u001b[0;36m<module>\u001b[0;34m()\u001b[0m\n\u001b[0;32m----> 1\u001b[0;31m \u001b[0mpayouts\u001b[0m\u001b[0;34m,\u001b[0m \u001b[0mbestModel\u001b[0m \u001b[0;34m=\u001b[0m \u001b[0mrunRaces\u001b[0m\u001b[0;34m(\u001b[0m\u001b[0mlr\u001b[0m\u001b[0;34m,\u001b[0m \u001b[0mn_trials\u001b[0m\u001b[0;34m=\u001b[0m\u001b[0;36m5\u001b[0m\u001b[0;34m)\u001b[0m\u001b[0;34m\u001b[0m\u001b[0m\n\u001b[0m",
      "\u001b[0;31mNameError\u001b[0m: name 'runRaces' is not defined"
     ]
    }
   ],
   "source": [
    "#payouts, bestModel = runRaces(lr, n_trials=5)"
   ]
  },
  {
   "cell_type": "code",
   "execution_count": 11,
   "metadata": {
    "collapsed": false
   },
   "outputs": [],
   "source": [
    "numeric_features = ['position',\n",
    "                    'market_id',\n",
    "                    'barrier',\n",
    "                    'handicap_weight',  \n",
    "                    'track_starts', \n",
    "                    'track_wins']\n",
    "categorical_features = ['rider_id']\n",
    "df_features = df_runners_and_market[numeric_features]"
   ]
  },
  {
   "cell_type": "markdown",
   "metadata": {
    "collapsed": true
   },
   "source": [
    "#convert to factors\n",
    "for feature in categorical_features:\n",
    "    df_runners_and_market[feature] = df_runners_and_market[feature].astype(str)\n",
    "    df_runners_and_market[feature] = df_runners_and_market[feature].replace('nan','0') #have to do this because of a weird random forest bug\n"
   ]
  },
  {
   "cell_type": "markdown",
   "metadata": {
    "collapsed": false
   },
   "source": [
    "encoded_features = pd.get_dummies(df_runners_and_market[categorical_features], columns=categorical_features)"
   ]
  },
  {
   "cell_type": "markdown",
   "metadata": {
    "collapsed": false
   },
   "source": [
    "df_features = pd.merge(df_features, encoded_features, left_index=True, right_index=True, how='inner')"
   ]
  },
  {
   "cell_type": "code",
   "execution_count": 12,
   "metadata": {
    "_cell_guid": "1a89f8e2-bb7a-8581-efca-9bdb907d5e91",
    "collapsed": false
   },
   "outputs": [
    {
     "name": "stderr",
     "output_type": "stream",
     "text": [
      "//anaconda/lib/python3.5/site-packages/ipykernel/__main__.py:2: SettingWithCopyWarning: \n",
      "A value is trying to be set on a copy of a slice from a DataFrame.\n",
      "Try using .loc[row_indexer,col_indexer] = value instead\n",
      "\n",
      "See the caveats in the documentation: http://pandas.pydata.org/pandas-docs/stable/indexing.html#indexing-view-versus-copy\n",
      "  from ipykernel import kernelapp as app\n",
      "//anaconda/lib/python3.5/site-packages/pandas/core/indexing.py:461: SettingWithCopyWarning: \n",
      "A value is trying to be set on a copy of a slice from a DataFrame.\n",
      "Try using .loc[row_indexer,col_indexer] = value instead\n",
      "\n",
      "See the caveats in the documentation: http://pandas.pydata.org/pandas-docs/stable/indexing.html#indexing-view-versus-copy\n",
      "  self.obj[item] = s\n"
     ]
    }
   ],
   "source": [
    "#turn the target variable into a binary feature: did or did not win\n",
    "df_features['win'] = 0\n",
    "df_features.loc[df_features['position'] == 1,'win'] = 1\n",
    "\n",
    "#del df_runners_and_market, encoded_features, df_features['position']"
   ]
  },
  {
   "cell_type": "code",
   "execution_count": 13,
   "metadata": {
    "collapsed": true
   },
   "outputs": [],
   "source": [
    "df_features.to_csv('features_bloom.csv',)"
   ]
  },
  {
   "cell_type": "code",
   "execution_count": 14,
   "metadata": {
    "collapsed": false
   },
   "outputs": [],
   "source": [
    "bloom = pd.read_csv('features_bloom.csv')"
   ]
  },
  {
   "cell_type": "markdown",
   "metadata": {
    "_cell_guid": "e81e9d69-5303-0090-61fa-22768da0818d"
   },
   "source": [
    "# Split between training and test\n",
    "Doing a random split"
   ]
  },
  {
   "cell_type": "code",
   "execution_count": 16,
   "metadata": {
    "collapsed": false
   },
   "outputs": [
    {
     "data": {
      "text/plain": [
       "(82639, 8)"
      ]
     },
     "execution_count": 16,
     "metadata": {},
     "output_type": "execute_result"
    }
   ],
   "source": [
    "bloom.shape"
   ]
  },
  {
   "cell_type": "code",
   "execution_count": 36,
   "metadata": {
    "collapsed": false
   },
   "outputs": [],
   "source": [
    "def runRaces(est=None, n_trials=5, xgboost=False):\n",
    "    payouts = np.array([])\n",
    "    bestModel = None\n",
    "    bestPayout = -100000\n",
    "    for i in range(n_trials):\n",
    "        print('trial {}'.format(i))\n",
    "        df_train, df_test = train_test_split()\n",
    "        if xgboost:\n",
    "            df_test, model = fitXgboost(df_train, df_test)\n",
    "        else:\n",
    "            df_test, model = fitModel(df_train, df_test, est)\n",
    "        df_test = getOdds(df_test)\n",
    "        df_test = getAdjustedProbs(df_test)\n",
    "        payout = getProfit(df_test)\n",
    "        payouts = np.append(payouts, payout)\n",
    "        if payout > bestPayout:\n",
    "            bestPayout = payout\n",
    "            bestModel = model\n",
    "    print('mean payout: {}, std payout: {}'.format(np.mean(payouts), np.std(payouts)))\n",
    "    return payouts, bestModel       "
   ]
  },
  {
   "cell_type": "code",
   "execution_count": 27,
   "metadata": {
    "_cell_guid": "2bfd46c5-bb0a-ed8e-9d27-e5e99917f952",
    "collapsed": true
   },
   "outputs": [],
   "source": [
    "def train_test_split():\n",
    "    training_races = np.random.choice(df_features['market_id'].unique(),size=int(round(0.7*len(df_features['market_id'].unique()),0)),replace=False)\n",
    "    df_train = df_features[df_features['market_id'].isin(training_races)]\n",
    "    df_test = df_features[~df_features['market_id'].isin(training_races)]\n",
    "    return (df_train, df_test)\n",
    "    \n",
    "#del df_features"
   ]
  },
  {
   "cell_type": "code",
   "execution_count": 42,
   "metadata": {
    "collapsed": true
   },
   "outputs": [],
   "source": [
    "def fitXgboost(df_train, df_test):\n",
    "    param = {'objective':'binary:logistic' }\n",
    "    dtrain = xgb.DMatrix(df_train.drop(['win', 'position', 'market_id'], axis=1).values, label=df_train['win'])\n",
    "    dtest = xgb.DMatrix(df_test.drop(['win', 'position', 'market_id'], axis=1).values)\n",
    "    model = xgb.train(param, dtrain)\n",
    "    predictions = model.predict(dtest)\n",
    "    df_test['predictions'] = predictions\n",
    "    df_test = df_test[['predictions','win','market_id']]\n",
    "    return df_test, model"
   ]
  },
  {
   "cell_type": "code",
   "execution_count": 28,
   "metadata": {
    "collapsed": false
   },
   "outputs": [],
   "source": [
    "def fitModel(df_train, df_test, est):\n",
    "    est.fit(df_train.drop(df_train[['win','position','market_id']],axis=1), df_train['win'])\n",
    "    \n",
    "    if est.predict_proba:\n",
    "        predictions = est.predict_proba(df_test.drop(df_test[['win','position','market_id']],axis=1))[:,0]\n",
    "    else:\n",
    "        predictions = est.predict(df_test.drop(df_test[['win','position','market_id']],axis=1))[:,0]\n",
    "    \n",
    "    df_test['predictions'] = predictions\n",
    "    df_test = df_test[['predictions','win','market_id']]\n",
    "    return df_test, est"
   ]
  },
  {
   "cell_type": "markdown",
   "metadata": {
    "_cell_guid": "82ef1282-7adc-7443-3d46-96c70160c06a",
    "collapsed": false
   },
   "source": [
    "gbm = xgb.XGBClassifier(objective='binary:logistic').fit(df_train.drop(df_train[['win','position','market_id']],axis=1)\n",
    ", df_train['win'])\n",
    "predictions = gbm.predict_proba(df_test.drop(df_test[['win','position','market_id']],axis=1))[:,0]\n",
    "df_test['predictions'] = predictions\n",
    "df_test = df_test[['predictions','win','market_id']]\n",
    "#del df_train"
   ]
  },
  {
   "cell_type": "markdown",
   "metadata": {
    "_cell_guid": "ebba34a2-27a0-d7cc-1098-049dfae992e1"
   },
   "source": [
    "#Compare with betting markets"
   ]
  },
  {
   "cell_type": "code",
   "execution_count": 29,
   "metadata": {
    "_cell_guid": "52b47b1c-9092-73af-4823-cd5f4559dd9c",
    "collapsed": true
   },
   "outputs": [],
   "source": [
    "def getOdds(df_test):\n",
    "    df_odds = pd.read_csv(\"input/odds.csv\")\n",
    "    df_odds = df_odds[df_odds['runner_id'].isin(df_test.index)]\n",
    "\n",
    "    #I take the mean odds for the horse rather than the odds 1 hour before or 10 mins before. You may want to revisit this.\n",
    "    average_win_odds = df_odds.groupby(['runner_id'])['odds_one_win'].mean()\n",
    "\n",
    "    #delete when odds are 0 because there is no market for this horse\n",
    "    average_win_odds[average_win_odds == 0] = np.nan\n",
    "    df_test['odds'] = average_win_odds\n",
    "    df_test = df_test.dropna(subset=['odds'])\n",
    "    #given that I predict multiple winners, there's leakage if I don't shuffle the test set (winning horse appears first and I put money on the first horse I predict to win)\n",
    "    df_test = df_test.iloc[np.random.permutation(len(df_test))]\n",
    "    return df_test"
   ]
  },
  {
   "cell_type": "code",
   "execution_count": 30,
   "metadata": {
    "collapsed": true
   },
   "outputs": [],
   "source": [
    "def getAdjustedProbs(df_test):\n",
    "    marketIdTotalProb = pd.DataFrame(df_test.groupby('market_id').predictions.sum())\n",
    "    marketIdTotalProb.columns = ['totalPredForMarket']\n",
    "    df_test = pd.merge(df_test, marketIdTotalProb, left_on='market_id', right_index=True)\n",
    "    df_test['adjProb'] = df_test.predictions / df_test.totalPredForMarket\n",
    "    return df_test\n"
   ]
  },
  {
   "cell_type": "code",
   "execution_count": 31,
   "metadata": {
    "collapsed": false
   },
   "outputs": [],
   "source": [
    "#select the horse I picked as most likely to win\n",
    "def getProfit(df_test):\n",
    "    df_profit = df_test.loc[df_test.groupby(\"market_id\")[\"predictions\"].idxmax()]\n",
    "    df_profit.head()\n",
    "    investment = 0\n",
    "    payout = 0\n",
    "    for index, row in df_profit.iterrows():\n",
    "        investment +=1\n",
    "    \n",
    "        if (row['win']):\n",
    "            payout += row['odds']\n",
    "\n",
    "    investment_return = round((payout - investment)/investment*100,2)\n",
    "    return investment_return\n"
   ]
  },
  {
   "cell_type": "code",
   "execution_count": 33,
   "metadata": {
    "_cell_guid": "dcd3fdee-566c-2935-68e3-73f94a8280df",
    "collapsed": false
   },
   "outputs": [],
   "source": [
    "#print(\"This algorithm and betting system will generate a \" + str(investment_return) + \"% return\\n\")\n",
    "#print(\"Note: you can't read much from a single run. Best to setup a cross validation framework and look at the return over many runs\")"
   ]
  },
  {
   "cell_type": "code",
   "execution_count": 34,
   "metadata": {
    "collapsed": false
   },
   "outputs": [
    {
     "name": "stdout",
     "output_type": "stream",
     "text": [
      "trial 0\n"
     ]
    },
    {
     "name": "stderr",
     "output_type": "stream",
     "text": [
      "//anaconda/lib/python3.5/site-packages/ipykernel/__main__.py:4: SettingWithCopyWarning: \n",
      "A value is trying to be set on a copy of a slice from a DataFrame.\n",
      "Try using .loc[row_indexer,col_indexer] = value instead\n",
      "\n",
      "See the caveats in the documentation: http://pandas.pydata.org/pandas-docs/stable/indexing.html#indexing-view-versus-copy\n"
     ]
    },
    {
     "name": "stdout",
     "output_type": "stream",
     "text": [
      "trial 1\n",
      "trial 2\n",
      "trial 3\n",
      "trial 4\n",
      "mean payout: -20.018, std payout: 12.142754876880286\n"
     ]
    }
   ],
   "source": [
    "from sklearn.linear_model import LogisticRegression\n",
    "lr = LogisticRegression()\n",
    "payouts, bestModel = runRaces(lr, n_trials=5)"
   ]
  },
  {
   "cell_type": "code",
   "execution_count": 41,
   "metadata": {
    "collapsed": false
   },
   "outputs": [
    {
     "name": "stdout",
     "output_type": "stream",
     "text": [
      "trial 0\n",
      "[ 0.09469943  0.02599738  0.10701256  0.07757477  0.11427253  0.08143684\n",
      "  0.07757477  0.1119375   0.09469943  0.09468859]\n"
     ]
    },
    {
     "name": "stderr",
     "output_type": "stream",
     "text": [
      "//anaconda/lib/python3.5/site-packages/ipykernel/__main__.py:8: SettingWithCopyWarning: \n",
      "A value is trying to be set on a copy of a slice from a DataFrame.\n",
      "Try using .loc[row_indexer,col_indexer] = value instead\n",
      "\n",
      "See the caveats in the documentation: http://pandas.pydata.org/pandas-docs/stable/indexing.html#indexing-view-versus-copy\n"
     ]
    },
    {
     "ename": "NameError",
     "evalue": "name 'est' is not defined",
     "output_type": "error",
     "traceback": [
      "\u001b[0;31m---------------------------------------------------------------------------\u001b[0m",
      "\u001b[0;31mNameError\u001b[0m                                 Traceback (most recent call last)",
      "\u001b[0;32m<ipython-input-41-aff295398ca9>\u001b[0m in \u001b[0;36m<module>\u001b[0;34m()\u001b[0m\n\u001b[0;32m----> 1\u001b[0;31m \u001b[0mpayouts\u001b[0m\u001b[0;34m,\u001b[0m \u001b[0mbestModel\u001b[0m \u001b[0;34m=\u001b[0m \u001b[0mrunRaces\u001b[0m\u001b[0;34m(\u001b[0m\u001b[0mest\u001b[0m\u001b[0;34m=\u001b[0m\u001b[0;32mNone\u001b[0m\u001b[0;34m,\u001b[0m \u001b[0mn_trials\u001b[0m\u001b[0;34m=\u001b[0m\u001b[0;36m2\u001b[0m\u001b[0;34m,\u001b[0m \u001b[0mxgboost\u001b[0m\u001b[0;34m=\u001b[0m\u001b[0;32mTrue\u001b[0m\u001b[0;34m)\u001b[0m\u001b[0;34m\u001b[0m\u001b[0m\n\u001b[0m",
      "\u001b[0;32m<ipython-input-36-afad07844657>\u001b[0m in \u001b[0;36mrunRaces\u001b[0;34m(est, n_trials, xgboost)\u001b[0m\n\u001b[1;32m      7\u001b[0m         \u001b[0mdf_train\u001b[0m\u001b[0;34m,\u001b[0m \u001b[0mdf_test\u001b[0m \u001b[0;34m=\u001b[0m \u001b[0mtrain_test_split\u001b[0m\u001b[0;34m(\u001b[0m\u001b[0;34m)\u001b[0m\u001b[0;34m\u001b[0m\u001b[0m\n\u001b[1;32m      8\u001b[0m         \u001b[0;32mif\u001b[0m \u001b[0mxgboost\u001b[0m\u001b[0;34m:\u001b[0m\u001b[0;34m\u001b[0m\u001b[0m\n\u001b[0;32m----> 9\u001b[0;31m             \u001b[0mdf_test\u001b[0m\u001b[0;34m,\u001b[0m \u001b[0mmodel\u001b[0m \u001b[0;34m=\u001b[0m \u001b[0mfitXgboost\u001b[0m\u001b[0;34m(\u001b[0m\u001b[0mdf_train\u001b[0m\u001b[0;34m,\u001b[0m \u001b[0mdf_test\u001b[0m\u001b[0;34m)\u001b[0m\u001b[0;34m\u001b[0m\u001b[0m\n\u001b[0m\u001b[1;32m     10\u001b[0m         \u001b[0;32melse\u001b[0m\u001b[0;34m:\u001b[0m\u001b[0;34m\u001b[0m\u001b[0m\n\u001b[1;32m     11\u001b[0m             \u001b[0mdf_test\u001b[0m\u001b[0;34m,\u001b[0m \u001b[0mmodel\u001b[0m \u001b[0;34m=\u001b[0m \u001b[0mfitModel\u001b[0m\u001b[0;34m(\u001b[0m\u001b[0mdf_train\u001b[0m\u001b[0;34m,\u001b[0m \u001b[0mdf_test\u001b[0m\u001b[0;34m,\u001b[0m \u001b[0mest\u001b[0m\u001b[0;34m)\u001b[0m\u001b[0;34m\u001b[0m\u001b[0m\n",
      "\u001b[0;32m<ipython-input-40-169112ac48e6>\u001b[0m in \u001b[0;36mfitXgboost\u001b[0;34m(df_train, df_test)\u001b[0m\n\u001b[1;32m      8\u001b[0m     \u001b[0mdf_test\u001b[0m\u001b[0;34m[\u001b[0m\u001b[0;34m'predictions'\u001b[0m\u001b[0;34m]\u001b[0m \u001b[0;34m=\u001b[0m \u001b[0mpredictions\u001b[0m\u001b[0;34m\u001b[0m\u001b[0m\n\u001b[1;32m      9\u001b[0m     \u001b[0mdf_test\u001b[0m \u001b[0;34m=\u001b[0m \u001b[0mdf_test\u001b[0m\u001b[0;34m[\u001b[0m\u001b[0;34m[\u001b[0m\u001b[0;34m'predictions'\u001b[0m\u001b[0;34m,\u001b[0m\u001b[0;34m'win'\u001b[0m\u001b[0;34m,\u001b[0m\u001b[0;34m'market_id'\u001b[0m\u001b[0;34m]\u001b[0m\u001b[0;34m]\u001b[0m\u001b[0;34m\u001b[0m\u001b[0m\n\u001b[0;32m---> 10\u001b[0;31m     \u001b[0;32mreturn\u001b[0m \u001b[0mdf_test\u001b[0m\u001b[0;34m,\u001b[0m \u001b[0mest\u001b[0m\u001b[0;34m\u001b[0m\u001b[0m\n\u001b[0m",
      "\u001b[0;31mNameError\u001b[0m: name 'est' is not defined"
     ]
    }
   ],
   "source": [
    "payouts, bestModel = runRaces(est=None, n_trials=2, xgboost=True)"
   ]
  },
  {
   "cell_type": "code",
   "execution_count": null,
   "metadata": {
    "collapsed": true
   },
   "outputs": [],
   "source": []
  }
 ],
 "metadata": {
  "_change_revision": 3,
  "_is_fork": false,
  "kernelspec": {
   "display_name": "Python 3",
   "language": "python",
   "name": "python3"
  },
  "language_info": {
   "codemirror_mode": {
    "name": "ipython",
    "version": 3
   },
   "file_extension": ".py",
   "mimetype": "text/x-python",
   "name": "python",
   "nbconvert_exporter": "python",
   "pygments_lexer": "ipython3",
   "version": "3.5.1"
  }
 },
 "nbformat": 4,
 "nbformat_minor": 0
}
