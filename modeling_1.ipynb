{
 "cells": [
  {
   "cell_type": "markdown",
   "metadata": {
    "_cell_guid": "9e126ef5-7167-96a9-e3e3-398c6e3b238b"
   },
   "source": [
    "This notebook is a first step to exploring whether it's possible to predict horses races more accurately than the betting markets. It includes feature exploration, feature engineering, a basic XGBoost model, a betting strategy and calculates my profit or loss. \n",
    "\n",
    "This notebook doesn't rigorously test whether the strategy systematically makes money, but my sense is that it probably doesn't. The results change pretty dramatically when I change the test-train split. This could be because of a bug, or could be because the model is ~random because I have very few features (and I'm not using the most interesting features. \n",
    "\n",
    "Hopefully somebody can use this starting point and extend it. I'm happy to answer any questions if you don't understand anything I've done.\n",
    "\n",
    "Ideas for improvements (ordered by priority):\n",
    "\n",
    " - Include additional features: most importantly form.\n",
    " - Create a betting strategy where you don't bet on every race but only those where there's a big discrepancy between your predictions and the odds \n",
    " - Setup a cross validation framework. \n",
    " - Look at feature importance and partial plots to make sure the model is behaving properly.\n",
    " - I'm treating this as a binary prediction problem (predicting the probability that each horse will win). This throws away information. There are probably better ways to setup the problem. \n",
    " - Possibly include a model that also predicts place.\n"
   ]
  },
  {
   "cell_type": "code",
   "execution_count": 40,
   "metadata": {
    "_cell_guid": "94bcf5b2-09f7-eada-edf4-48697992061f",
    "collapsed": false
   },
   "outputs": [],
   "source": [
    "import pandas as pd\n",
    "import xgboost as xgb\n",
    "import numpy as np\n",
    "\n",
    "#useful for displaying wide data frames\n",
    "pd.set_option('display.max_columns', 50)"
   ]
  },
  {
   "cell_type": "code",
   "execution_count": 41,
   "metadata": {
    "collapsed": false
   },
   "outputs": [],
   "source": [
    "df = pd.read_csv('input/modWithComp.csv')"
   ]
  },
  {
   "cell_type": "code",
   "execution_count": 42,
   "metadata": {
    "collapsed": false
   },
   "outputs": [],
   "source": [
    "numeric_features = ['position',\n",
    "                    'market_id',\n",
    "                    'barrier',\n",
    "                    'handicap_weight', \n",
    "                    'place_pct', \n",
    "                    'win_pct',\n",
    "                    'comp_win_pct',\n",
    "                    'comp_place_pct',\n",
    "                    'track_starts', \n",
    "                    'track_wins']\n",
    "categorical_features = ['rider_id']\n",
    "df_features = df[numeric_features]"
   ]
  },
  {
   "cell_type": "markdown",
   "metadata": {
    "collapsed": true
   },
   "source": [
    "#convert to factors\n",
    "for feature in categorical_features:\n",
    "    df[feature] = df[feature].astype(str)\n",
    "    df[feature] = df[feature].replace('nan','0') #have to do this because of a weird random forest bug\n",
    "encoded_features = pd.get_dummies(df_runners_and_market[categorical_features], columns=categorical_features)\n",
    "df_features = pd.merge(df_features, encoded_features, left_index=True, right_index=True, how='inner')"
   ]
  },
  {
   "cell_type": "code",
   "execution_count": 43,
   "metadata": {
    "_cell_guid": "1a89f8e2-bb7a-8581-efca-9bdb907d5e91",
    "collapsed": false
   },
   "outputs": [
    {
     "name": "stderr",
     "output_type": "stream",
     "text": [
      "//anaconda/lib/python3.5/site-packages/ipykernel/__main__.py:2: SettingWithCopyWarning: \n",
      "A value is trying to be set on a copy of a slice from a DataFrame.\n",
      "Try using .loc[row_indexer,col_indexer] = value instead\n",
      "\n",
      "See the caveats in the documentation: http://pandas.pydata.org/pandas-docs/stable/indexing.html#indexing-view-versus-copy\n",
      "  from ipykernel import kernelapp as app\n",
      "//anaconda/lib/python3.5/site-packages/pandas/core/indexing.py:461: SettingWithCopyWarning: \n",
      "A value is trying to be set on a copy of a slice from a DataFrame.\n",
      "Try using .loc[row_indexer,col_indexer] = value instead\n",
      "\n",
      "See the caveats in the documentation: http://pandas.pydata.org/pandas-docs/stable/indexing.html#indexing-view-versus-copy\n",
      "  self.obj[item] = s\n"
     ]
    }
   ],
   "source": [
    "#turn the target variable into a binary feature: did or did not win\n",
    "df_features['win'] = 0\n",
    "df_features.loc[df_features['position'] == 1,'win'] = 1\n",
    "\n",
    "#del df_runners_and_market, encoded_features, df_features['position']"
   ]
  },
  {
   "cell_type": "markdown",
   "metadata": {
    "_cell_guid": "e81e9d69-5303-0090-61fa-22768da0818d"
   },
   "source": [
    "# Split between training and test\n",
    "Doing a random split"
   ]
  },
  {
   "cell_type": "code",
   "execution_count": 67,
   "metadata": {
    "collapsed": false
   },
   "outputs": [],
   "source": [
    "def runRaces(est=None, n_trials=5, xgboost=False):\n",
    "    payouts = np.array([])\n",
    "    bestModel = None\n",
    "    bestPayout = -100000\n",
    "    prediction = None\n",
    "    for i in range(n_trials):\n",
    "        print('trial {}'.format(i))\n",
    "        df_train, df_test = train_test_split()\n",
    "        if xgboost:\n",
    "            df_test, model = fitXgboost(df_train, df_test)\n",
    "        else:\n",
    "            df_test, model, train_columns, predictions = fitModel(df_train, df_test, est)\n",
    "        df_test = getOdds(df_test)\n",
    "        df_test = getAdjustedProbs(df_test)\n",
    "        payout = getProfit(df_test)\n",
    "        payouts = np.append(payouts, payout)\n",
    "        if payout > bestPayout:\n",
    "            bestPayout = payout\n",
    "            bestModel = model\n",
    "            predictions = predictions\n",
    "        \n",
    "    print('mean payout: {}, std payout: {}'.format(np.mean(payouts), np.std(payouts)))\n",
    "    return payouts, bestModel, train_columns, predictions      "
   ]
  },
  {
   "cell_type": "code",
   "execution_count": 45,
   "metadata": {
    "_cell_guid": "2bfd46c5-bb0a-ed8e-9d27-e5e99917f952",
    "collapsed": true
   },
   "outputs": [],
   "source": [
    "def train_test_split():\n",
    "    training_races = np.random.choice(df_features['market_id'].unique(),size=int(round(0.7*len(df_features['market_id'].unique()),0)),replace=False)\n",
    "    df_train = df_features[df_features['market_id'].isin(training_races)]\n",
    "    df_test = df_features[~df_features['market_id'].isin(training_races)]\n",
    "    return (df_train, df_test)\n",
    "    \n",
    "#del df_features"
   ]
  },
  {
   "cell_type": "code",
   "execution_count": 46,
   "metadata": {
    "collapsed": true
   },
   "outputs": [],
   "source": [
    "def fitXgboost(df_train, df_test):\n",
    "    param = {'objective':'binary:logistic' }\n",
    "    dtrain = xgb.DMatrix(df_train.drop(['win', 'position', 'market_id'], axis=1).values, label=df_train['win'])\n",
    "    dtest = xgb.DMatrix(df_test.drop(['win', 'position', 'market_id'], axis=1).values)\n",
    "    model = xgb.train(param, dtrain)\n",
    "    predictions = model.predict(dtest)\n",
    "    df_test['predictions'] = predictions\n",
    "    df_test = df_test[['predictions','win','market_id']]\n",
    "    return df_test, model"
   ]
  },
  {
   "cell_type": "code",
   "execution_count": 66,
   "metadata": {
    "collapsed": false
   },
   "outputs": [],
   "source": [
    "def fitModel(df_train, df_test, est):\n",
    "    est.fit(df_train.drop(df_train[['win','position','market_id']],axis=1), df_train['win'])\n",
    "    \n",
    "    if est.predict_proba:\n",
    "        predictions = est.predict_proba(df_test.drop(df_test[['win','position','market_id']],axis=1))[:,1]\n",
    "        print(predictions)\n",
    "    else:\n",
    "        predictions = est.predict(df_test.drop(df_test[['win','position','market_id']],axis=1))[:,0]\n",
    "    \n",
    "    df_test['predictions'] = predictions\n",
    "    df_test = df_test[['predictions','win','market_id']]\n",
    "    return df_test, est, df_train.drop(['win','position','market_id'], axis=1).columns, predictions"
   ]
  },
  {
   "cell_type": "markdown",
   "metadata": {
    "_cell_guid": "82ef1282-7adc-7443-3d46-96c70160c06a",
    "collapsed": false
   },
   "source": [
    "gbm = xgb.XGBClassifier(objective='binary:logistic').fit(df_train.drop(df_train[['win','position','market_id']],axis=1)\n",
    ", df_train['win'])\n",
    "predictions = gbm.predict_proba(df_test.drop(df_test[['win','position','market_id']],axis=1))[:,0]\n",
    "df_test['predictions'] = predictions\n",
    "df_test = df_test[['predictions','win','market_id']]\n",
    "#del df_train"
   ]
  },
  {
   "cell_type": "markdown",
   "metadata": {
    "_cell_guid": "ebba34a2-27a0-d7cc-1098-049dfae992e1"
   },
   "source": [
    "#Compare with betting markets"
   ]
  },
  {
   "cell_type": "code",
   "execution_count": 48,
   "metadata": {
    "_cell_guid": "52b47b1c-9092-73af-4823-cd5f4559dd9c",
    "collapsed": true
   },
   "outputs": [],
   "source": [
    "def getOdds(df_test):\n",
    "    df_odds = pd.read_csv(\"input/odds.csv\")\n",
    "    df_odds = df_odds[df_odds['runner_id'].isin(df_test.index)]\n",
    "\n",
    "    #I take the mean odds for the horse rather than the odds 1 hour before or 10 mins before. You may want to revisit this.\n",
    "    average_win_odds = df_odds.groupby(['runner_id'])['odds_one_win'].mean()\n",
    "\n",
    "    #delete when odds are 0 because there is no market for this horse\n",
    "    average_win_odds[average_win_odds == 0] = np.nan\n",
    "    df_test['odds'] = average_win_odds\n",
    "    df_test = df_test.dropna(subset=['odds'])\n",
    "    #given that I predict multiple winners, there's leakage if I don't shuffle the test set (winning horse appears first and I put money on the first horse I predict to win)\n",
    "    df_test = df_test.iloc[np.random.permutation(len(df_test))]\n",
    "    return df_test"
   ]
  },
  {
   "cell_type": "code",
   "execution_count": 49,
   "metadata": {
    "collapsed": true
   },
   "outputs": [],
   "source": [
    "def getAdjustedProbs(df_test):\n",
    "    marketIdTotalProb = pd.DataFrame(df_test.groupby('market_id').predictions.sum())\n",
    "    marketIdTotalProb.columns = ['totalPredForMarket']\n",
    "    df_test = pd.merge(df_test, marketIdTotalProb, left_on='market_id', right_index=True)\n",
    "    df_test['adjProb'] = df_test.predictions / df_test.totalPredForMarket\n",
    "    return df_test\n"
   ]
  },
  {
   "cell_type": "code",
   "execution_count": 50,
   "metadata": {
    "collapsed": false
   },
   "outputs": [],
   "source": [
    "#select the horse I picked as most likely to win\n",
    "def getProfit(df_test):\n",
    "    df_profit = df_test.loc[df_test.groupby(\"market_id\")[\"predictions\"].idxmax()]\n",
    "    df_profit.head()\n",
    "    investment = 0\n",
    "    payout = 0\n",
    "    for index, row in df_profit.iterrows():\n",
    "        investment +=1\n",
    "    \n",
    "        if (row['win']):\n",
    "            payout += row['odds']\n",
    "\n",
    "    investment_return = round((payout - investment)/investment*100,2)\n",
    "    return investment_return\n"
   ]
  },
  {
   "cell_type": "code",
   "execution_count": 51,
   "metadata": {
    "_cell_guid": "dcd3fdee-566c-2935-68e3-73f94a8280df",
    "collapsed": false
   },
   "outputs": [],
   "source": [
    "#print(\"This algorithm and betting system will generate a \" + str(investment_return) + \"% return\\n\")\n",
    "#print(\"Note: you can't read much from a single run. Best to setup a cross validation framework and look at the return over many runs\")"
   ]
  },
  {
   "cell_type": "code",
   "execution_count": 69,
   "metadata": {
    "collapsed": false
   },
   "outputs": [
    {
     "name": "stdout",
     "output_type": "stream",
     "text": [
      "trial 0\n",
      "[ 0.055532    0.05491216  0.06267821 ...,  0.04804684  0.15398422\n",
      "  0.07419078]\n"
     ]
    },
    {
     "name": "stderr",
     "output_type": "stream",
     "text": [
      "//anaconda/lib/python3.5/site-packages/ipykernel/__main__.py:10: SettingWithCopyWarning: \n",
      "A value is trying to be set on a copy of a slice from a DataFrame.\n",
      "Try using .loc[row_indexer,col_indexer] = value instead\n",
      "\n",
      "See the caveats in the documentation: http://pandas.pydata.org/pandas-docs/stable/indexing.html#indexing-view-versus-copy\n"
     ]
    },
    {
     "name": "stdout",
     "output_type": "stream",
     "text": [
      "trial 1\n",
      "[ 0.05524596  0.05660352  0.06443668 ...,  0.0645494   0.05183351\n",
      "  0.05783013]\n",
      "trial 2\n",
      "[ 0.06649384  0.08770885  0.07098709 ...,  0.05006389  0.14351333\n",
      "  0.07710616]\n",
      "trial 3\n",
      "[ 0.06550047  0.05667057  0.10609112 ...,  0.06863343  0.0624719\n",
      "  0.07459865]\n",
      "trial 4\n",
      "[ 0.0680906   0.08036962  0.07260524 ...,  0.06709356  0.07677473\n",
      "  0.07006478]\n",
      "mean payout: 191.88600000000002, std payout: 18.829539134030867\n"
     ]
    }
   ],
   "source": [
    "from sklearn.linear_model import LogisticRegression\n",
    "lr = LogisticRegression()\n",
    "payouts, bestModel, train_cols, predictions = runRaces(lr, n_trials=5)"
   ]
  },
  {
   "cell_type": "code",
   "execution_count": 70,
   "metadata": {
    "collapsed": false
   },
   "outputs": [
    {
     "data": {
      "text/plain": [
       "barrier           -0.069054\n",
       "handicap_weight    0.062837\n",
       "place_pct         -0.050190\n",
       "win_pct            0.011367\n",
       "comp_win_pct      -0.014890\n",
       "comp_place_pct     0.028023\n",
       "track_starts       0.005798\n",
       "track_wins         0.004792\n",
       "dtype: float64"
      ]
     },
     "execution_count": 70,
     "metadata": {},
     "output_type": "execute_result"
    }
   ],
   "source": [
    "pd.Series(bestModel.coef_[0],index=train_cols )"
   ]
  },
  {
   "cell_type": "code",
   "execution_count": 65,
   "metadata": {
    "collapsed": false
   },
   "outputs": [
    {
     "name": "stdout",
     "output_type": "stream",
     "text": [
      "0.11064414060769343\n",
      "0.1121880974178413\n"
     ]
    }
   ],
   "source": [
    "print(df_features[df_features.win == 1].win_pct.mean())\n",
    "print(df_features[df_features.win == 0].win_pct.mean())"
   ]
  },
  {
   "cell_type": "code",
   "execution_count": null,
   "metadata": {
    "collapsed": true
   },
   "outputs": [],
   "source": []
  }
 ],
 "metadata": {
  "_change_revision": 3,
  "_is_fork": false,
  "kernelspec": {
   "display_name": "Python 3",
   "language": "python",
   "name": "python3"
  },
  "language_info": {
   "codemirror_mode": {
    "name": "ipython",
    "version": 3
   },
   "file_extension": ".py",
   "mimetype": "text/x-python",
   "name": "python",
   "nbconvert_exporter": "python",
   "pygments_lexer": "ipython3",
   "version": "3.5.1"
  }
 },
 "nbformat": 4,
 "nbformat_minor": 0
}
