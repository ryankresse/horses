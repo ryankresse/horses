{
 "cells": [
  {
   "cell_type": "markdown",
   "metadata": {
    "_cell_guid": "9e126ef5-7167-96a9-e3e3-398c6e3b238b"
   },
   "source": [
    "This notebook is a first step to exploring whether it's possible to predict horses races more accurately than the betting markets. It includes feature exploration, feature engineering, a basic XGBoost model, a betting strategy and calculates my profit or loss. \n",
    "\n",
    "This notebook doesn't rigorously test whether the strategy systematically makes money, but my sense is that it probably doesn't. The results change pretty dramatically when I change the test-train split. This could be because of a bug, or could be because the model is ~random because I have very few features (and I'm not using the most interesting features. \n",
    "\n",
    "Hopefully somebody can use this starting point and extend it. I'm happy to answer any questions if you don't understand anything I've done.\n",
    "\n",
    "Ideas for improvements (ordered by priority):\n",
    "\n",
    " - Include additional features: most importantly form.\n",
    " - Create a betting strategy where you don't bet on every race but only those where there's a big discrepancy between your predictions and the odds \n",
    " - Setup a cross validation framework. \n",
    " - Look at feature importance and partial plots to make sure the model is behaving properly.\n",
    " - I'm treating this as a binary prediction problem (predicting the probability that each horse will win). This throws away information. There are probably better ways to setup the problem. \n",
    " - Possibly include a model that also predicts place.\n"
   ]
  },
  {
   "cell_type": "code",
   "execution_count": 1,
   "metadata": {
    "_cell_guid": "94bcf5b2-09f7-eada-edf4-48697992061f",
    "collapsed": false
   },
   "outputs": [],
   "source": [
    "import pandas as pd\n",
    "import xgboost as xgb\n",
    "import numpy as np\n",
    "\n",
    "#useful for displaying wide data frames\n",
    "pd.set_option('display.max_columns', 50)"
   ]
  },
  {
   "cell_type": "code",
   "execution_count": 2,
   "metadata": {
    "collapsed": false
   },
   "outputs": [],
   "source": [
    "df = pd.read_csv('input/modified_data.csv')"
   ]
  },
  {
   "cell_type": "code",
   "execution_count": 4,
   "metadata": {
    "collapsed": false
   },
   "outputs": [
    {
     "data": {
      "text/plain": [
       "Index(['id_x', 'collected_at', 'market_id', 'position', 'place_paid', 'margin',\n",
       "       'horse_id', 'trainer_id', 'rider_id', 'handicap_weight', 'number',\n",
       "       'barrier', 'blinkers', 'emergency', 'form_rating_one',\n",
       "       'form_rating_two', 'form_rating_three', 'last_five_starts',\n",
       "       'favourite_odds_win', 'favourite_odds_place', 'favourite_pool_win',\n",
       "       'favourite_pool_place', 'tip_one_win', 'tip_one_place', 'tip_two_win',\n",
       "       'tip_two_place', 'tip_three_win', 'tip_three_place', 'tip_four_win',\n",
       "       'tip_four_place', 'tip_five_win', 'tip_five_place', 'tip_six_win',\n",
       "       'tip_six_place', 'tip_seven_win', 'tip_seven_place', 'tip_eight_win',\n",
       "       'tip_eight_place', 'tip_nine_win', 'tip_nine_place', 'id_y', 'timezone',\n",
       "       'venue_id', 'race_number', 'distance', 'condition_id', 'weather_id',\n",
       "       'total_pool_one_win', 'total_pool_one_place', 'total_pool_two_win',\n",
       "       'total_pool_two_place', 'total_pool_three_win',\n",
       "       'total_pool_three_place', 'overall_starts', 'overall_wins',\n",
       "       'overall_places', 'track_starts', 'track_wins', 'win_pct', 'place_pct'],\n",
       "      dtype='object')"
      ]
     },
     "execution_count": 4,
     "metadata": {},
     "output_type": "execute_result"
    }
   ],
   "source": [
    "df.columns"
   ]
  },
  {
   "cell_type": "code",
   "execution_count": 6,
   "metadata": {
    "collapsed": false
   },
   "outputs": [],
   "source": [
    "numeric_features = ['position',\n",
    "                    'market_id',\n",
    "                    'barrier',\n",
    "                    'handicap_weight', \n",
    "                    'place_pct', \n",
    "                    'win_pct',\n",
    "                    'track_starts', \n",
    "                    'track_wins']\n",
    "categorical_features = ['rider_id']\n",
    "df_features = df[numeric_features]"
   ]
  },
  {
   "cell_type": "code",
   "execution_count": 13,
   "metadata": {
    "collapsed": false
   },
   "outputs": [
    {
     "data": {
      "text/html": [
       "<div>\n",
       "<table border=\"1\" class=\"dataframe\">\n",
       "  <thead>\n",
       "    <tr style=\"text-align: right;\">\n",
       "      <th></th>\n",
       "      <th>position</th>\n",
       "      <th>market_id</th>\n",
       "      <th>barrier</th>\n",
       "      <th>handicap_weight</th>\n",
       "      <th>place_pct</th>\n",
       "      <th>win_pct</th>\n",
       "      <th>track_starts</th>\n",
       "      <th>track_wins</th>\n",
       "    </tr>\n",
       "  </thead>\n",
       "  <tbody>\n",
       "    <tr>\n",
       "      <th>0</th>\n",
       "      <td>NaN</td>\n",
       "      <td>1</td>\n",
       "      <td>10</td>\n",
       "      <td>58.5</td>\n",
       "      <td>0.00</td>\n",
       "      <td>0.0</td>\n",
       "      <td>0</td>\n",
       "      <td>0</td>\n",
       "    </tr>\n",
       "    <tr>\n",
       "      <th>1</th>\n",
       "      <td>NaN</td>\n",
       "      <td>1</td>\n",
       "      <td>11</td>\n",
       "      <td>56.5</td>\n",
       "      <td>0.00</td>\n",
       "      <td>0.0</td>\n",
       "      <td>0</td>\n",
       "      <td>0</td>\n",
       "    </tr>\n",
       "    <tr>\n",
       "      <th>2</th>\n",
       "      <td>NaN</td>\n",
       "      <td>1</td>\n",
       "      <td>5</td>\n",
       "      <td>56.5</td>\n",
       "      <td>0.25</td>\n",
       "      <td>0.0</td>\n",
       "      <td>1</td>\n",
       "      <td>0</td>\n",
       "    </tr>\n",
       "    <tr>\n",
       "      <th>3</th>\n",
       "      <td>NaN</td>\n",
       "      <td>1</td>\n",
       "      <td>12</td>\n",
       "      <td>56.5</td>\n",
       "      <td>0.00</td>\n",
       "      <td>0.0</td>\n",
       "      <td>0</td>\n",
       "      <td>0</td>\n",
       "    </tr>\n",
       "    <tr>\n",
       "      <th>4</th>\n",
       "      <td>NaN</td>\n",
       "      <td>1</td>\n",
       "      <td>8</td>\n",
       "      <td>58.5</td>\n",
       "      <td>1.00</td>\n",
       "      <td>0.0</td>\n",
       "      <td>0</td>\n",
       "      <td>0</td>\n",
       "    </tr>\n",
       "  </tbody>\n",
       "</table>\n",
       "</div>"
      ],
      "text/plain": [
       "   position  market_id  barrier  handicap_weight  place_pct  win_pct  \\\n",
       "0       NaN          1       10             58.5       0.00      0.0   \n",
       "1       NaN          1       11             56.5       0.00      0.0   \n",
       "2       NaN          1        5             56.5       0.25      0.0   \n",
       "3       NaN          1       12             56.5       0.00      0.0   \n",
       "4       NaN          1        8             58.5       1.00      0.0   \n",
       "\n",
       "   track_starts  track_wins  \n",
       "0             0           0  \n",
       "1             0           0  \n",
       "2             1           0  \n",
       "3             0           0  \n",
       "4             0           0  "
      ]
     },
     "execution_count": 13,
     "metadata": {},
     "output_type": "execute_result"
    }
   ],
   "source": [
    "df_features.head()"
   ]
  },
  {
   "cell_type": "markdown",
   "metadata": {
    "collapsed": true
   },
   "source": [
    "#convert to factors\n",
    "for feature in categorical_features:\n",
    "    df[feature] = df[feature].astype(str)\n",
    "    df[feature] = df[feature].replace('nan','0') #have to do this because of a weird random forest bug\n",
    "encoded_features = pd.get_dummies(df_runners_and_market[categorical_features], columns=categorical_features)\n",
    "df_features = pd.merge(df_features, encoded_features, left_index=True, right_index=True, how='inner')"
   ]
  },
  {
   "cell_type": "code",
   "execution_count": 14,
   "metadata": {
    "_cell_guid": "1a89f8e2-bb7a-8581-efca-9bdb907d5e91",
    "collapsed": false
   },
   "outputs": [
    {
     "name": "stderr",
     "output_type": "stream",
     "text": [
      "//anaconda/lib/python3.5/site-packages/ipykernel/__main__.py:2: SettingWithCopyWarning: \n",
      "A value is trying to be set on a copy of a slice from a DataFrame.\n",
      "Try using .loc[row_indexer,col_indexer] = value instead\n",
      "\n",
      "See the caveats in the documentation: http://pandas.pydata.org/pandas-docs/stable/indexing.html#indexing-view-versus-copy\n",
      "  from ipykernel import kernelapp as app\n",
      "//anaconda/lib/python3.5/site-packages/pandas/core/indexing.py:461: SettingWithCopyWarning: \n",
      "A value is trying to be set on a copy of a slice from a DataFrame.\n",
      "Try using .loc[row_indexer,col_indexer] = value instead\n",
      "\n",
      "See the caveats in the documentation: http://pandas.pydata.org/pandas-docs/stable/indexing.html#indexing-view-versus-copy\n",
      "  self.obj[item] = s\n"
     ]
    }
   ],
   "source": [
    "#turn the target variable into a binary feature: did or did not win\n",
    "df_features['win'] = 0\n",
    "df_features.loc[df_features['position'] == 1,'win'] = 1\n",
    "\n",
    "#del df_runners_and_market, encoded_features, df_features['position']"
   ]
  },
  {
   "cell_type": "code",
   "execution_count": 15,
   "metadata": {
    "collapsed": true
   },
   "outputs": [],
   "source": [
    "bloom = pd.read_csv('features_bloom.csv')"
   ]
  },
  {
   "cell_type": "code",
   "execution_count": 16,
   "metadata": {
    "collapsed": true
   },
   "outputs": [],
   "source": [
    "df_features = bloom"
   ]
  },
  {
   "cell_type": "markdown",
   "metadata": {
    "_cell_guid": "e81e9d69-5303-0090-61fa-22768da0818d"
   },
   "source": [
    "# Split between training and test\n",
    "Doing a random split"
   ]
  },
  {
   "cell_type": "code",
   "execution_count": 28,
   "metadata": {
    "collapsed": false
   },
   "outputs": [],
   "source": [
    "def runRaces(est=None, n_trials=5, xgboost=False):\n",
    "    payouts = np.array([])\n",
    "    bestModel = None\n",
    "    bestPayout = -100000\n",
    "    prediction = None\n",
    "    for i in range(n_trials):\n",
    "        print('trial {}'.format(i))\n",
    "        df_train, df_test = train_test_split()\n",
    "        if xgboost:\n",
    "            df_test, model = fitXgboost(df_train, df_test)\n",
    "        else:\n",
    "            df_test, model, train_columns, predictions = fitModel(df_train, df_test, est)\n",
    "        df_test = getOdds(df_test)\n",
    "        df_test = getAdjustedProbs(df_test)\n",
    "        payout = placeBets(df_test)\n",
    "        payouts = np.append(payouts, payout)\n",
    "        if payout > bestPayout:\n",
    "            bestPayout = payout\n",
    "            bestModel = model\n",
    "            predictions = predictions\n",
    "        \n",
    "    print('mean payout: {}, std payout: {}'.format(np.mean(payouts), np.std(payouts)))\n",
    "    return payouts, bestModel, train_columns, predictions      \n",
    "\n",
    "def train_test_split():\n",
    "    training_races = np.random.choice(df_features['market_id'].unique(),size=int(round(0.7*len(df_features['market_id'].unique()),0)),replace=False)\n",
    "    df_train = df_features[df_features['market_id'].isin(training_races)]\n",
    "    df_test = df_features[~df_features['market_id'].isin(training_races)]\n",
    "    return (df_train, df_test)\n",
    "    \n",
    "#del df_features"
   ]
  },
  {
   "cell_type": "code",
   "execution_count": 19,
   "metadata": {
    "collapsed": true
   },
   "outputs": [],
   "source": [
    "def fitXgboost(df_train, df_test):\n",
    "    param = {'objective':'binary:logistic' }\n",
    "    dtrain = xgb.DMatrix(df_train.drop(['win', 'position', 'market_id'], axis=1).values, label=df_train['win'])\n",
    "    dtest = xgb.DMatrix(df_test.drop(['win', 'position', 'market_id'], axis=1).values)\n",
    "    model = xgb.train(param, dtrain)\n",
    "    predictions = model.predict(dtest)\n",
    "    df_test['predictions'] = predictions\n",
    "    df_test = df_test[['predictions','win','market_id']]\n",
    "    return df_test, model"
   ]
  },
  {
   "cell_type": "code",
   "execution_count": 23,
   "metadata": {
    "collapsed": false
   },
   "outputs": [],
   "source": [
    "def fitModel(df_train, df_test, est):\n",
    "    est.fit(df_train.drop(['win','position','market_id'],axis=1), df_train['win'])\n",
    "    \n",
    "    if est.predict_proba:\n",
    "        predictions = est.predict_proba(df_test.drop(df_test[['win','position','market_id']],axis=1))[:,1]\n",
    "    else:\n",
    "        predictions = est.predict(df_test.drop(df_test[['win','position','market_id']],axis=1))[:,0]\n",
    "    \n",
    "    df_test['predictions'] = predictions\n",
    "    df_test = df_test[['predictions','win','market_id']]\n",
    "    return df_test, est, df_train.drop(['win','position','market_id'], axis=1).columns, predictions"
   ]
  },
  {
   "cell_type": "markdown",
   "metadata": {
    "_cell_guid": "82ef1282-7adc-7443-3d46-96c70160c06a",
    "collapsed": false
   },
   "source": [
    "gbm = xgb.XGBClassifier(objective='binary:logistic').fit(df_train.drop(df_train[['win','position','market_id']],axis=1)\n",
    ", df_train['win'])\n",
    "predictions = gbm.predict_proba(df_test.drop(df_test[['win','position','market_id']],axis=1))[:,0]\n",
    "df_test['predictions'] = predictions\n",
    "df_test = df_test[['predictions','win','market_id']]\n",
    "#del df_train"
   ]
  },
  {
   "cell_type": "markdown",
   "metadata": {
    "_cell_guid": "ebba34a2-27a0-d7cc-1098-049dfae992e1"
   },
   "source": [
    "#Compare with betting markets"
   ]
  },
  {
   "cell_type": "code",
   "execution_count": 24,
   "metadata": {
    "_cell_guid": "52b47b1c-9092-73af-4823-cd5f4559dd9c",
    "collapsed": true
   },
   "outputs": [],
   "source": [
    "def getOdds(df_test):\n",
    "    df_odds = pd.read_csv(\"input/odds.csv\")\n",
    "    df_odds = df_odds[df_odds['runner_id'].isin(df_test.index)]\n",
    "\n",
    "    #I take the mean odds for the horse rather than the odds 1 hour before or 10 mins before. You may want to revisit this.\n",
    "    average_win_odds = df_odds.groupby(['runner_id'])['odds_one_win'].mean()\n",
    "\n",
    "    #delete when odds are 0 because there is no market for this horse\n",
    "    average_win_odds[average_win_odds == 0] = np.nan\n",
    "    df_test['odds'] = average_win_odds\n",
    "    df_test = df_test.dropna(subset=['odds'])\n",
    "    #given that I predict multiple winners, there's leakage if I don't shuffle the test set (winning horse appears first and I put money on the first horse I predict to win)\n",
    "    df_test = df_test.iloc[np.random.permutation(len(df_test))]\n",
    "    return df_test"
   ]
  },
  {
   "cell_type": "code",
   "execution_count": 25,
   "metadata": {
    "collapsed": true
   },
   "outputs": [],
   "source": [
    "def getAdjustedProbs(df_test):\n",
    "    marketIdTotalProb = pd.DataFrame(df_test.groupby('market_id').predictions.sum())\n",
    "    marketIdTotalProb.columns = ['totalPredForMarket']\n",
    "    df_test = pd.merge(df_test, marketIdTotalProb, left_on='market_id', right_index=True)\n",
    "    df_test['adjProb'] = df_test.predictions / df_test.totalPredForMarket\n",
    "    return df_test"
   ]
  },
  {
   "cell_type": "code",
   "execution_count": 48,
   "metadata": {
    "collapsed": true
   },
   "outputs": [],
   "source": [
    "def placeBets(df):\n",
    "    investment = 0\n",
    "    payout = 0\n",
    "    bets = 0\n",
    "    wins = 0\n",
    "    \n",
    "    for index, row in df.iterrows():\n",
    "        # if we predicted the probability of a win that's greater than the odds, we bet\n",
    "        if row['adjProb'] > (1/row['odds']):\n",
    "            investment +=1\n",
    "            bets +=1\n",
    "            if (row['win']):\n",
    "                payout += row['odds']\n",
    "                wins +=1\n",
    "                \n",
    "    investment_return = round((payout - investment)/investment*100,2)\n",
    "    print('Total bets: {}'.format(bets))\n",
    "    print('Total wins: {}'.format(wins))\n",
    "    return investment_return\n",
    "            "
   ]
  },
  {
   "cell_type": "code",
   "execution_count": 44,
   "metadata": {
    "collapsed": false
   },
   "outputs": [],
   "source": [
    "#select the horse I picked as most likely to win\n",
    "def getProfit(df_test):\n",
    "    df_profit = df_test.loc[df_test.groupby(\"market_id\")[\"predictions\"].idxmax()]\n",
    "    print(df_profit.head())\n",
    "    bets = 0\n",
    "    investment = 0\n",
    "    payout = 0\n",
    "    wins = 0\n",
    "    for index, row in df_profit.iterrows():\n",
    "        investment +=1\n",
    "        bets +=1\n",
    "        if (row['win']):\n",
    "            payout += row['odds']\n",
    "            wins +=1\n",
    "    investment_return = round((payout - investment)/investment*100,2)\n",
    "    return investment_return\n"
   ]
  },
  {
   "cell_type": "code",
   "execution_count": 45,
   "metadata": {
    "_cell_guid": "dcd3fdee-566c-2935-68e3-73f94a8280df",
    "collapsed": false
   },
   "outputs": [],
   "source": [
    "#print(\"This algorithm and betting system will generate a \" + str(investment_return) + \"% return\\n\")\n",
    "#print(\"Note: you can't read much from a single run. Best to setup a cross validation framework and look at the return over many runs\")"
   ]
  },
  {
   "cell_type": "code",
   "execution_count": 46,
   "metadata": {
    "collapsed": false
   },
   "outputs": [
    {
     "name": "stdout",
     "output_type": "stream",
     "text": [
      "trial 0\n"
     ]
    },
    {
     "name": "stderr",
     "output_type": "stream",
     "text": [
      "//anaconda/lib/python3.5/site-packages/ipykernel/__main__.py:9: SettingWithCopyWarning: \n",
      "A value is trying to be set on a copy of a slice from a DataFrame.\n",
      "Try using .loc[row_indexer,col_indexer] = value instead\n",
      "\n",
      "See the caveats in the documentation: http://pandas.pydata.org/pandas-docs/stable/indexing.html#indexing-view-versus-copy\n"
     ]
    },
    {
     "name": "stdout",
     "output_type": "stream",
     "text": [
      "       predictions  win  market_id   odds  totalPredForMarket   adjProb\n",
      "22595     0.086406    0       1899   6.01            0.506965  0.170437\n",
      "22590     0.068582    0       1899  16.75            0.506965  0.135279\n",
      "22588     0.085067    1       1899   9.15            0.506965  0.167796\n",
      "22593     0.083562    0       1899   8.64            0.506965  0.164828\n",
      "22591     0.095595    0       1899  15.05            0.506965  0.188564\n",
      "(19572, 6)\n",
      "Total bets: 11466\n",
      "Wins: 916, Bets: 11466\n",
      "trial 1\n",
      "       predictions  win  market_id    odds  totalPredForMarket   adjProb\n",
      "57960     0.076035    0       5180  121.10             1.00686  0.075517\n",
      "57956     0.101312    0       5180    9.65             1.00686  0.100622\n",
      "57964     0.079798    0       5180    8.32             1.00686  0.079254\n",
      "57965     0.091068    0       5180   73.10             1.00686  0.090447\n",
      "57954     0.077138    1       5180   64.30             1.00686  0.076612\n",
      "(19554, 6)\n",
      "Total bets: 11585\n",
      "Wins: 931, Bets: 11585\n",
      "mean payout: 228.19, std payout: 4.1299999999999955\n"
     ]
    }
   ],
   "source": [
    "from sklearn.linear_model import LogisticRegression\n",
    "lr = LogisticRegression()\n",
    "payouts, bestModel, train_cols, predictions = runRaces(lr, n_trials=2)"
   ]
  }
 ],
 "metadata": {
  "_change_revision": 3,
  "_is_fork": false,
  "kernelspec": {
   "display_name": "Python 3",
   "language": "python",
   "name": "python3"
  },
  "language_info": {
   "codemirror_mode": {
    "name": "ipython",
    "version": 3
   },
   "file_extension": ".py",
   "mimetype": "text/x-python",
   "name": "python",
   "nbconvert_exporter": "python",
   "pygments_lexer": "ipython3",
   "version": "3.5.1"
  }
 },
 "nbformat": 4,
 "nbformat_minor": 0
}
