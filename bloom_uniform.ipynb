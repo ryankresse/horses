{
 "cells": [
  {
   "cell_type": "markdown",
   "metadata": {
    "_cell_guid": "9e126ef5-7167-96a9-e3e3-398c6e3b238b"
   },
   "source": [
    "This notebook is a first step to exploring whether it's possible to predict horses races more accurately than the betting markets. It includes feature exploration, feature engineering, a basic XGBoost model, a betting strategy and calculates my profit or loss. \n",
    "\n",
    "This notebook doesn't rigorously test whether the strategy systematically makes money, but my sense is that it probably doesn't. The results change pretty dramatically when I change the test-train split. This could be because of a bug, or could be because the model is ~random because I have very few features (and I'm not using the most interesting features. \n",
    "\n",
    "Hopefully somebody can use this starting point and extend it. I'm happy to answer any questions if you don't understand anything I've done.\n",
    "\n",
    "Ideas for improvements (ordered by priority):\n",
    "\n",
    " - Include additional features: most importantly form.\n",
    " - Create a betting strategy where you don't bet on every race but only those where there's a big discrepancy between your predictions and the odds \n",
    " - Setup a cross validation framework. \n",
    " - Look at feature importance and partial plots to make sure the model is behaving properly.\n",
    " - I'm treating this as a binary prediction problem (predicting the probability that each horse will win). This throws away information. There are probably better ways to setup the problem. \n",
    " - Possibly include a model that also predicts place.\n"
   ]
  },
  {
   "cell_type": "code",
   "execution_count": 7,
   "metadata": {
    "_cell_guid": "94bcf5b2-09f7-eada-edf4-48697992061f",
    "collapsed": false
   },
   "outputs": [
    {
     "name": "stdout",
     "output_type": "stream",
     "text": [
      "The autoreload extension is already loaded. To reload it, use:\n",
      "  %reload_ext autoreload\n"
     ]
    }
   ],
   "source": [
    "import pandas as pd\n",
    "import xgboost as xgb\n",
    "import numpy as np\n",
    "%load_ext autoreload\n",
    "%autoreload 2\n",
    "#useful for displaying wide data frames\n",
    "pd.set_option('display.max_columns', 50)"
   ]
  },
  {
   "cell_type": "code",
   "execution_count": 9,
   "metadata": {
    "_cell_guid": "7bb48b2c-d20a-ae8e-ef75-6289e6d558dd",
    "collapsed": false
   },
   "outputs": [],
   "source": [
    "#load the data into Pandas dataframes\n",
    "df_market = pd.read_csv(\"input/markets.csv\")\n",
    "df_runners = pd.read_csv(\"input/runners.csv\",dtype={'barrier': np.int16,'handicap_weight': np.float16})\n",
    "\n",
    "#for my simple model, I'm ignoring other columns. I recommend starting with form if you're looking to add features\n",
    "#df_odds = pd.read_csv(\"../input/odds.csv\")\n",
    "#df_form = pd.read_csv(\"../input/forms.csv\")\n",
    "#df_condition = pd.read_csv(\"../input/conditions.csv\")\n",
    "#df_weather = (\"../input/weather.csv\")\n",
    "#df_rider = (\"../input/riders.csv\")\n",
    "#df_horse = (\"../input/horses.csv\")\n",
    "#df_horse_sex = (\"../input/horse_sexes.csv\")"
   ]
  },
  {
   "cell_type": "code",
   "execution_count": 10,
   "metadata": {
    "_cell_guid": "5cf5d552-dede-df4c-a0ec-dc012957eea4",
    "collapsed": true
   },
   "outputs": [],
   "source": [
    "##merge the runners and markets data frames\n",
    "df_runners_and_market = pd.merge(df_runners,df_market,left_on='market_id',right_on='id',how='outer')\n",
    "df_runners_and_market.index = df_runners_and_market['id_x'] \n"
   ]
  },
  {
   "cell_type": "code",
   "execution_count": 11,
   "metadata": {
    "_cell_guid": "1a89f8e2-bb7a-8581-efca-9bdb907d5e91",
    "collapsed": true
   },
   "outputs": [],
   "source": [
    "numeric_features = ['position','market_id','barrier','handicap_weight']\n",
    "categorical_features = ['rider_id']\n",
    "\n",
    "#convert to factors\n",
    "for feature in categorical_features:\n",
    "    df_runners_and_market[feature] = df_runners_and_market[feature].astype(str)\n",
    "    df_runners_and_market[feature] = df_runners_and_market[feature].replace('nan','0') #have to do this because of a weird random forest bug\n",
    "\n",
    "    df_features = df_runners_and_market[numeric_features]\n",
    "\n",
    "for feature in categorical_features:\n",
    "    encoded_features = pd.get_dummies(df_runners_and_market[feature])\n",
    "    encoded_features.columns = feature + encoded_features.columns\n",
    "    df_features = pd.merge(df_features,encoded_features,left_index=True,right_index=True,how='inner') \n",
    "\n",
    "#turn the target variable into a binary feature: did or did not win\n",
    "df_features['win'] = False\n",
    "df_features.loc[df_features['position'] == 1,'win'] = True\n",
    "\n",
    "#del df_runners_and_market, encoded_features, df_features['position']"
   ]
  },
  {
   "cell_type": "markdown",
   "metadata": {
    "_cell_guid": "e81e9d69-5303-0090-61fa-22768da0818d"
   },
   "source": [
    "#Split between training and test\n",
    "Doing a random split"
   ]
  },
  {
   "cell_type": "markdown",
   "metadata": {
    "_cell_guid": "82ef1282-7adc-7443-3d46-96c70160c06a",
    "collapsed": false
   },
   "source": [
    "gbm = xgb.XGBClassifier(objective='binary:logistic').fit(df_train.drop(df_train[['win','position','market_id']],axis=1)\n",
    ", df_train['win'])\n",
    "predictions = gbm.predict_proba(df_test.drop(df_test[['win','position','market_id']],axis=1))[:,0]\n",
    "df_test['predictions'] = predictions\n",
    "df_test = df_test[['predictions','win','market_id']]\n",
    "#del df_train"
   ]
  },
  {
   "cell_type": "markdown",
   "metadata": {
    "_cell_guid": "ebba34a2-27a0-d7cc-1098-049dfae992e1"
   },
   "source": [
    "#Compare with betting markets"
   ]
  },
  {
   "cell_type": "code",
   "execution_count": null,
   "metadata": {
    "collapsed": true
   },
   "outputs": [],
   "source": []
  },
  {
   "cell_type": "code",
   "execution_count": 77,
   "metadata": {
    "collapsed": false
   },
   "outputs": [],
   "source": [
    "all_odds = pd.read_csv(\"input/odds.csv\")\n",
    "\n",
    "\n",
    "def getOdds(df):\n",
    "    df_odds = all_odds[all_odds['runner_id'].isin(df_test.index)]\n",
    "\n",
    "    #I take the mean odds for the horse rather than the odds 1 hour before or 10 mins before. You may want to revisit this.\n",
    "    average_win_odds = df_odds.groupby(['runner_id'])['odds_one_win'].mean()\n",
    "\n",
    "    #delete when odds are 0 because there is no market for this horse\n",
    "    average_win_odds[average_win_odds == 0] = np.nan\n",
    "    df['odds'] = average_win_odds\n",
    "    df = df.dropna(subset=['odds'])\n",
    "    #given that I predict multiple winners, there's leakage if I don't shuffle the test set (winning horse appears first and I put money on the first horse I predict to win)\n",
    "    df = df.iloc[np.random.permutation(len(df))]\n",
    "    return df\n",
    "\n",
    "\n",
    "def train_test_split():\n",
    "    training_races = np.random.choice(df_features['market_id'].unique(),size=int(round(0.7*len(df_features['market_id'].unique()),0)),replace=False)\n",
    "    df_train = df_features[df_features['market_id'].isin(training_races)]\n",
    "    df_test = df_features[~df_features['market_id'].isin(training_races)]\n",
    "    return (df_train, df_test)\n",
    "    \n",
    "\n",
    "def getUniformProb(df):\n",
    "    winProbs = df.groupby('market_id').apply(lambda x: 1/x.shape[0]).values\n",
    "    print(winProbs.shape)\n",
    "    print(winProbs[0:10])\n",
    "    #w = pd.DataFrame(winProbs).rename(columns={0:'winProb'})    \n",
    "    #return df.merge(w, left_on='market_id', right_index=True)\n",
    "\n",
    "\n",
    "def placeBets(df):\n",
    "    investment = 0\n",
    "    payout = 0\n",
    "    bets = 0\n",
    "    wins = 0\n",
    "    for index, row in df.iterrows():\n",
    "        # if we predicted the probability of a win that's greater than the odds, we bet\n",
    "        if row['winProb'] > (1/row['odds']):\n",
    "            investment +=1\n",
    "            bets +=1\n",
    "            if (row['win']):\n",
    "                payout += row['odds']\n",
    "                wins +=1\n",
    "                \n",
    "    investment_return = round((payout - investment)/investment*100,2)\n",
    "    print('Total bets: {}'.format(bets))\n",
    "    print('Total wins: {}'.format(wins))\n",
    "    return investment_return\n",
    "\n",
    "\n",
    "def runRaces(n_trials=1):\n",
    "    payouts = np.array([])\n",
    "    for i in range(n_trials):\n",
    "        print('trial {}'.format(i))\n",
    "        _, df_test = train_test_split()\n",
    "        df_test = getUniformProb(df_test)\n",
    "        df_test = getOdds(df_test)\n",
    "        payout = placeBets(df_test)\n",
    "        payouts = np.append(payouts, payout)\n",
    "        \n",
    "    print('mean payout: {}, std payout: {}'.format(np.mean(payouts), np.std(payouts)))\n",
    "    return df_test "
   ]
  },
  {
   "cell_type": "code",
   "execution_count": null,
   "metadata": {
    "collapsed": true
   },
   "outputs": [],
   "source": []
  },
  {
   "cell_type": "code",
   "execution_count": 69,
   "metadata": {
    "collapsed": false
   },
   "outputs": [],
   "source": [
    "class UniformProbEst():\n",
    "    \n",
    "    def __init__(self):\n",
    "        pass\n",
    "\n",
    "    def fit(self, X, y):\n",
    "        pass\n",
    "  \n",
    "    def predict_proba(self, df):\n",
    "        #uniform prob for each race\n",
    "        winProbs = df.groupby('market_id').apply(lambda x: 1/x.shape[0]) \n",
    "        w = pd.DataFrame(winProbs).rename(columns={0:'winProb'})    \n",
    "        #merge to match the right prob with each horse\n",
    "        d = df.merge(w, left_on='market_id', right_index=True)\n",
    "        z = np.zeros(d.shape[0])\n",
    "        #stack with a leading column of zeros to fit the return\n",
    "        #signature of sklearn predict_proba\n",
    "        return np.hstack((z[:, np.newaxis], d.winProb.values[:, np.newaxis]))\n",
    "       "
   ]
  },
  {
   "cell_type": "code",
   "execution_count": 19,
   "metadata": {
    "collapsed": true
   },
   "outputs": [],
   "source": [
    "allOdds = pd.read_csv(\"input/odds.csv\")\n"
   ]
  },
  {
   "cell_type": "code",
   "execution_count": 74,
   "metadata": {
    "collapsed": false
   },
   "outputs": [
    {
     "name": "stdout",
     "output_type": "stream",
     "text": [
      "trial 0\n",
      "0\n",
      "(26362, 1193)\n",
      "--\n",
      "(26362, 1194)\n"
     ]
    },
    {
     "name": "stderr",
     "output_type": "stream",
     "text": [
      "/Users/ryankresse/Documents/py/horses/runRaces.py:36: SettingWithCopyWarning: \n",
      "A value is trying to be set on a copy of a slice from a DataFrame.\n",
      "Try using .loc[row_indexer,col_indexer] = value instead\n",
      "\n",
      "See the caveats in the documentation: http://pandas.pydata.org/pandas-docs/stable/indexing.html#indexing-view-versus-copy\n",
      "  df_test['winProb'] = predictions\n"
     ]
    },
    {
     "name": "stdout",
     "output_type": "stream",
     "text": [
      "Total bets: 11127\n",
      "Total wins: 340\n",
      "mean payout: -28.4, std payout: 0.0\n"
     ]
    }
   ],
   "source": [
    "from runRaces import runRaces\n",
    "\n",
    "uniformProbs = UniformProbEst()\n",
    "p = runRaces(df_features, uniformProbs, allOdds)"
   ]
  },
  {
   "cell_type": "code",
   "execution_count": null,
   "metadata": {
    "collapsed": true
   },
   "outputs": [],
   "source": []
  },
  {
   "cell_type": "code",
   "execution_count": 15,
   "metadata": {
    "collapsed": true
   },
   "outputs": [],
   "source": [
    "%reload_ext autoreload"
   ]
  },
  {
   "cell_type": "code",
   "execution_count": null,
   "metadata": {
    "collapsed": true
   },
   "outputs": [],
   "source": []
  }
 ],
 "metadata": {
  "_change_revision": 3,
  "_is_fork": false,
  "kernelspec": {
   "display_name": "Python 3",
   "language": "python",
   "name": "python3"
  },
  "language_info": {
   "codemirror_mode": {
    "name": "ipython",
    "version": 3
   },
   "file_extension": ".py",
   "mimetype": "text/x-python",
   "name": "python",
   "nbconvert_exporter": "python",
   "pygments_lexer": "ipython3",
   "version": "3.5.1"
  }
 },
 "nbformat": 4,
 "nbformat_minor": 0
}
